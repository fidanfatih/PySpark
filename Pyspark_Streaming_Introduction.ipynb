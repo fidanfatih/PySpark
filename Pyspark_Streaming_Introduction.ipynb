{
 "cells": [
  {
   "cell_type": "code",
   "execution_count": 1,
   "metadata": {},
   "outputs": [],
   "source": [
    "import findspark\n",
    "findspark.init(\"C:\\\\spark\")"
   ]
  },
  {
   "cell_type": "code",
   "execution_count": 2,
   "metadata": {},
   "outputs": [],
   "source": [
    "from pyspark import SparkContext\n",
    "from pyspark.streaming import StreamingContext\n",
    "\n",
    "sc = SparkContext(\"local[2]\", \"LiveWordCount\")\n",
    "ssc = StreamingContext(sc, 5)\n",
    "#Canlı çekilen dataları sürekli  görmek yerine her 5 saniyede 1 göster."
   ]
  },
  {
   "cell_type": "code",
   "execution_count": 3,
   "metadata": {},
   "outputs": [],
   "source": [
    "rows = ssc.socketTextStream(\"localhost\", 9999)\n",
    "#9999 port verisi"
   ]
  },
  {
   "cell_type": "code",
   "execution_count": 4,
   "metadata": {},
   "outputs": [],
   "source": [
    "words = rows.flatMap(lambda row: row.split(\" \")).map(lambda word: (word, 1))"
   ]
  },
  {
   "cell_type": "code",
   "execution_count": 5,
   "metadata": {},
   "outputs": [],
   "source": [
    "word_number = words.reduceByKey(lambda x, y: x + y)\n",
    "#print the first ten elements of each RDD generated in this DStream to the console\n",
    "word_number.pprint()"
   ]
  },
  {
   "cell_type": "code",
   "execution_count": 8,
   "metadata": {},
   "outputs": [],
   "source": [
    "# Go to Anaconda prompt >> nc -l -p 9999\n",
    "# NOTE: Eger nc calismazsa, nc dosyasi icinde nc.exe ve nc64.exe dosyalarini firewall quarantina ya alabilir. Karantinadan cikarmalisin."
   ]
  },
  {
   "cell_type": "code",
   "execution_count": 6,
   "metadata": {
    "scrolled": true
   },
   "outputs": [
    {
     "name": "stdout",
     "output_type": "stream",
     "text": [
      "-------------------------------------------\n",
      "Time: 2022-04-21 20:09:55\n",
      "-------------------------------------------\n",
      "\n",
      "-------------------------------------------\n",
      "Time: 2022-04-21 20:10:00\n",
      "-------------------------------------------\n",
      "\n",
      "-------------------------------------------\n",
      "Time: 2022-04-21 20:10:05\n",
      "-------------------------------------------\n",
      "\n",
      "-------------------------------------------\n",
      "Time: 2022-04-21 20:10:10\n",
      "-------------------------------------------\n",
      "('Hello', 1)\n",
      "('world', 1)\n",
      "\n",
      "-------------------------------------------\n",
      "Time: 2022-04-21 20:10:15\n",
      "-------------------------------------------\n",
      "\n",
      "-------------------------------------------\n",
      "Time: 2022-04-21 20:10:20\n",
      "-------------------------------------------\n",
      "('Spark', 1)\n",
      "\n",
      "-------------------------------------------\n",
      "Time: 2022-04-21 20:10:25\n",
      "-------------------------------------------\n",
      "\n",
      "-------------------------------------------\n",
      "Time: 2022-04-21 20:10:30\n",
      "-------------------------------------------\n",
      "\n",
      "-------------------------------------------\n",
      "Time: 2022-04-21 20:10:35\n",
      "-------------------------------------------\n",
      "('introduction', 1)\n",
      "('to', 1)\n",
      "('pyspark', 1)\n",
      "\n",
      "-------------------------------------------\n",
      "Time: 2022-04-21 20:10:40\n",
      "-------------------------------------------\n",
      "\n",
      "-------------------------------------------\n",
      "Time: 2022-04-21 20:10:45\n",
      "-------------------------------------------\n",
      "\n",
      "-------------------------------------------\n",
      "Time: 2022-04-21 20:10:50\n",
      "-------------------------------------------\n",
      "\n",
      "-------------------------------------------\n",
      "Time: 2022-04-21 20:10:55\n",
      "-------------------------------------------\n",
      "('python', 1)\n",
      "('forever', 1)\n",
      "\n",
      "-------------------------------------------\n",
      "Time: 2022-04-21 20:11:00\n",
      "-------------------------------------------\n",
      "('science', 1)\n",
      "('aws', 1)\n",
      "('data', 1)\n",
      "\n",
      "-------------------------------------------\n",
      "Time: 2022-04-21 20:11:05\n",
      "-------------------------------------------\n",
      "\n",
      "-------------------------------------------\n",
      "Time: 2022-04-21 20:11:10\n",
      "-------------------------------------------\n",
      "\n"
     ]
    }
   ],
   "source": [
    "ssc.start()"
   ]
  },
  {
   "cell_type": "code",
   "execution_count": 9,
   "metadata": {},
   "outputs": [],
   "source": [
    "# Anaconda prompt a yazacagin mesajlar 5ms saniye ile tokenlerine ayrilip yukarida gosterilecek."
   ]
  },
  {
   "cell_type": "code",
   "execution_count": 7,
   "metadata": {},
   "outputs": [],
   "source": [
    "sc.stop()"
   ]
  },
  {
   "cell_type": "code",
   "execution_count": null,
   "metadata": {},
   "outputs": [],
   "source": []
  }
 ],
 "metadata": {
  "kernelspec": {
   "display_name": "Python 3 (ipykernel)",
   "language": "python",
   "name": "python3"
  },
  "language_info": {
   "codemirror_mode": {
    "name": "ipython",
    "version": 3
   },
   "file_extension": ".py",
   "mimetype": "text/x-python",
   "name": "python",
   "nbconvert_exporter": "python",
   "pygments_lexer": "ipython3",
   "version": "3.9.7"
  }
 },
 "nbformat": 4,
 "nbformat_minor": 2
}
