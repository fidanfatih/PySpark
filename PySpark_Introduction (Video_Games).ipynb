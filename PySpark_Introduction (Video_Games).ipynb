{
 "cells": [
  {
   "cell_type": "markdown",
   "id": "acc5382f",
   "metadata": {},
   "source": [
    "## Video_Games_Sales_as_at_22_Dec_2016.csv"
   ]
  },
  {
   "cell_type": "markdown",
   "id": "f1bd6040",
   "metadata": {},
   "source": [
    "https://www.kaggle.com/datasets/rush4ratio/video-game-sales-with-ratings"
   ]
  },
  {
   "cell_type": "code",
   "execution_count": 45,
   "id": "a805a66d",
   "metadata": {},
   "outputs": [],
   "source": [
    "import findspark\n",
    "findspark.init('C:\\\\spark')"
   ]
  },
  {
   "cell_type": "code",
   "execution_count": 46,
   "id": "8cc62dbe",
   "metadata": {},
   "outputs": [],
   "source": [
    "from pyspark.sql import SparkSession\n",
    "spark = SparkSession.builder.getOrCreate()"
   ]
  },
  {
   "cell_type": "code",
   "execution_count": 54,
   "id": "2eef19e7",
   "metadata": {},
   "outputs": [
    {
     "data": {
      "text/plain": [
       "DataFrame[Name: string, Platform: string, Year_of_Release: string, Genre: string, Publisher: string, NA_Sales: string, EU_Sales: string, JP_Sales: string, Other_Sales: string, Global_Sales: string, Critic_Score: string, Critic_Count: string, User_Score: string, User_Count: string, Developer: string, Rating: string]"
      ]
     },
     "execution_count": 54,
     "metadata": {},
     "output_type": "execute_result"
    }
   ],
   "source": [
    "dataset = spark.read.format(\"csv\").option(\"header\", \"true\").load(\".\\\\Pyspark_Video_Games_Data\\\\Video_Games_Sales_as_at_22_Dec_2016.csv\")\n",
    "dataset"
   ]
  },
  {
   "cell_type": "code",
   "execution_count": 55,
   "id": "4b34d799",
   "metadata": {},
   "outputs": [
    {
     "data": {
      "text/plain": [
       "[Row(Platform='PS2', count=2161),\n",
       " Row(Platform='DS', count=2152),\n",
       " Row(Platform='PS3', count=1331),\n",
       " Row(Platform='Wii', count=1320),\n",
       " Row(Platform='X360', count=1262),\n",
       " Row(Platform='PSP', count=1209),\n",
       " Row(Platform='PS', count=1197),\n",
       " Row(Platform='PC', count=974),\n",
       " Row(Platform='XB', count=824),\n",
       " Row(Platform='GBA', count=822),\n",
       " Row(Platform='GC', count=556),\n",
       " Row(Platform='3DS', count=520),\n",
       " Row(Platform='PSV', count=432),\n",
       " Row(Platform='PS4', count=393),\n",
       " Row(Platform='N64', count=319),\n",
       " Row(Platform='XOne', count=247),\n",
       " Row(Platform='SNES', count=239),\n",
       " Row(Platform='SAT', count=173),\n",
       " Row(Platform='WiiU', count=147),\n",
       " Row(Platform='2600', count=133),\n",
       " Row(Platform='NES', count=98),\n",
       " Row(Platform='GB', count=98),\n",
       " Row(Platform='DC', count=52),\n",
       " Row(Platform='GEN', count=29),\n",
       " Row(Platform='NG', count=12),\n",
       " Row(Platform='SCD', count=6),\n",
       " Row(Platform='WS', count=6),\n",
       " Row(Platform='3DO', count=3),\n",
       " Row(Platform='TG16', count=2),\n",
       " Row(Platform='PCFX', count=1),\n",
       " Row(Platform='GG', count=1)]"
      ]
     },
     "execution_count": 55,
     "metadata": {},
     "output_type": "execute_result"
    }
   ],
   "source": [
    "data = dataset.groupby(\"Platform\").count().orderBy(\"count\", ascending = False)\n",
    "data.collect()"
   ]
  },
  {
   "cell_type": "code",
   "execution_count": 56,
   "id": "ec115ec0-5dce-49fb-8b7d-73c4bcf7eaea",
   "metadata": {},
   "outputs": [
    {
     "data": {
      "text/plain": [
       "[Row(Genre='Action', count=3370),\n",
       " Row(Genre='Sports', count=2348),\n",
       " Row(Genre='Misc', count=1750),\n",
       " Row(Genre='Role-Playing', count=1500),\n",
       " Row(Genre='Shooter', count=1323),\n",
       " Row(Genre='Adventure', count=1303),\n",
       " Row(Genre='Racing', count=1249),\n",
       " Row(Genre='Platform', count=888),\n",
       " Row(Genre='Simulation', count=874),\n",
       " Row(Genre='Fighting', count=849),\n",
       " Row(Genre='Strategy', count=683),\n",
       " Row(Genre='Puzzle', count=580),\n",
       " Row(Genre=None, count=2)]"
      ]
     },
     "execution_count": 56,
     "metadata": {},
     "output_type": "execute_result"
    }
   ],
   "source": [
    "data = dataset.groupBy('Genre').count().orderBy('count',ascending=False)\n",
    "data.collect()"
   ]
  },
  {
   "cell_type": "code",
   "execution_count": 57,
   "id": "77c1f2be",
   "metadata": {},
   "outputs": [
    {
     "data": {
      "text/plain": [
       "['Name',\n",
       " 'Platform',\n",
       " 'Year_of_Release',\n",
       " 'Genre',\n",
       " 'Publisher',\n",
       " 'NA_Sales',\n",
       " 'EU_Sales',\n",
       " 'JP_Sales',\n",
       " 'Other_Sales',\n",
       " 'Global_Sales',\n",
       " 'Critic_Score',\n",
       " 'Critic_Count',\n",
       " 'User_Score',\n",
       " 'User_Count',\n",
       " 'Developer',\n",
       " 'Rating']"
      ]
     },
     "execution_count": 57,
     "metadata": {},
     "output_type": "execute_result"
    }
   ],
   "source": [
    "rows = spark.sparkContext.textFile(\".\\\\Pyspark_Video_Games_Data\\\\Video_Games_Sales_as_at_22_Dec_2016.csv\")\n",
    "header = rows.first()\n",
    "header.split(',')"
   ]
  },
  {
   "cell_type": "code",
   "execution_count": 58,
   "id": "c22032b2",
   "metadata": {},
   "outputs": [],
   "source": [
    "def CSV_ROW(row):\n",
    "    global header\n",
    "    a=header.split(',')\n",
    "    item = row.split(',')\n",
    "    return Row(Name=item[0], Platform=item[1], Year_of_Release=item[2], Genre=item[3], \n",
    "               Publisher=item[4], EU_Sales=item[6], Developer=item[13], Rating=item[14])"
   ]
  },
  {
   "cell_type": "code",
   "execution_count": 59,
   "id": "fd6064f2",
   "metadata": {},
   "outputs": [],
   "source": [
    "rows = rows.filter(lambda x: x!= header)\n",
    "books = rows.map(CSV_ROW)"
   ]
  },
  {
   "cell_type": "code",
   "execution_count": 60,
   "id": "635c60e6",
   "metadata": {},
   "outputs": [
    {
     "name": "stdout",
     "output_type": "stream",
     "text": [
      "+--------------------+--------+---------------+------------+---------+--------+---------+--------+\n",
      "|                Name|Platform|Year_of_Release|       Genre|Publisher|EU_Sales|Developer|  Rating|\n",
      "+--------------------+--------+---------------+------------+---------+--------+---------+--------+\n",
      "|          Wii Sports|     Wii|           2006|      Sports| Nintendo|   28.96|      322|Nintendo|\n",
      "|   Super Mario Bros.|     NES|           1985|    Platform| Nintendo|    3.58|         |        |\n",
      "|      Mario Kart Wii|     Wii|           2008|      Racing| Nintendo|   12.76|      709|Nintendo|\n",
      "|   Wii Sports Resort|     Wii|           2009|      Sports| Nintendo|   10.93|      192|Nintendo|\n",
      "|Pokemon Red/Pokem...|      GB|           1996|Role-Playing| Nintendo|    8.89|         |        |\n",
      "|              Tetris|      GB|           1989|      Puzzle| Nintendo|    2.26|         |        |\n",
      "|New Super Mario B...|      DS|           2006|    Platform| Nintendo|    9.14|      431|Nintendo|\n",
      "|            Wii Play|     Wii|           2006|        Misc| Nintendo|    9.18|      129|Nintendo|\n",
      "|New Super Mario B...|     Wii|           2009|    Platform| Nintendo|    6.94|      594|Nintendo|\n",
      "|           Duck Hunt|     NES|           1984|     Shooter| Nintendo|    0.63|         |        |\n",
      "+--------------------+--------+---------------+------------+---------+--------+---------+--------+\n",
      "only showing top 10 rows\n",
      "\n"
     ]
    }
   ],
   "source": [
    "df = spark.createDataFrame(books).cache()\n",
    "df.createOrReplaceTempView('books')\n",
    "df.show(10)"
   ]
  }
 ],
 "metadata": {
  "kernelspec": {
   "display_name": "Python 3 (ipykernel)",
   "language": "python",
   "name": "python3"
  },
  "language_info": {
   "codemirror_mode": {
    "name": "ipython",
    "version": 3
   },
   "file_extension": ".py",
   "mimetype": "text/x-python",
   "name": "python",
   "nbconvert_exporter": "python",
   "pygments_lexer": "ipython3",
   "version": "3.9.7"
  }
 },
 "nbformat": 4,
 "nbformat_minor": 5
}
