{
 "cells": [
  {
   "cell_type": "code",
   "execution_count": 1,
   "metadata": {},
   "outputs": [],
   "source": [
    "import findspark\n",
    "findspark.init(\"C:\\\\spark\")"
   ]
  },
  {
   "cell_type": "code",
   "execution_count": 134,
   "metadata": {},
   "outputs": [],
   "source": [
    "import pyspark\n",
    "import seaborn as sns\n",
    "import matplotlib.pyplot as plt\n",
    "import pandas as pd\n",
    "import numpy as np\n",
    "\n",
    "import warnings\n",
    "warnings.filterwarnings('ignore')\n",
    "warnings.warn(\"this will not show\")"
   ]
  },
  {
   "cell_type": "markdown",
   "metadata": {},
   "source": [
    "# Configurasyon ve Spark Bağlantısı "
   ]
  },
  {
   "cell_type": "code",
   "execution_count": 3,
   "metadata": {
    "scrolled": true
   },
   "outputs": [],
   "source": [
    "from pyspark import SparkContext\n",
    "sc = SparkContext()"
   ]
  },
  {
   "cell_type": "code",
   "execution_count": 4,
   "metadata": {},
   "outputs": [
    {
     "data": {
      "text/plain": [
       "'3.0.3'"
      ]
     },
     "execution_count": 4,
     "metadata": {},
     "output_type": "execute_result"
    }
   ],
   "source": [
    "sc.version"
   ]
  },
  {
   "cell_type": "code",
   "execution_count": 5,
   "metadata": {},
   "outputs": [
    {
     "data": {
      "text/plain": [
       "'fatih'"
      ]
     },
     "execution_count": 5,
     "metadata": {},
     "output_type": "execute_result"
    }
   ],
   "source": [
    "sc.sparkUser()"
   ]
  },
  {
   "cell_type": "code",
   "execution_count": 6,
   "metadata": {},
   "outputs": [
    {
     "data": {
      "text/plain": [
       "'pyspark-shell'"
      ]
     },
     "execution_count": 6,
     "metadata": {},
     "output_type": "execute_result"
    }
   ],
   "source": [
    "sc.appName"
   ]
  },
  {
   "cell_type": "code",
   "execution_count": 7,
   "metadata": {
    "scrolled": true
   },
   "outputs": [
    {
     "data": {
      "text/plain": [
       "['PACKAGE_EXTENSIONS',\n",
       " '__class__',\n",
       " '__delattr__',\n",
       " '__dict__',\n",
       " '__dir__',\n",
       " '__doc__',\n",
       " '__enter__',\n",
       " '__eq__',\n",
       " '__exit__',\n",
       " '__format__',\n",
       " '__ge__',\n",
       " '__getattribute__',\n",
       " '__getnewargs__',\n",
       " '__gt__',\n",
       " '__hash__',\n",
       " '__init__',\n",
       " '__init_subclass__',\n",
       " '__le__',\n",
       " '__lt__',\n",
       " '__module__',\n",
       " '__ne__',\n",
       " '__new__',\n",
       " '__reduce__',\n",
       " '__reduce_ex__',\n",
       " '__repr__',\n",
       " '__setattr__',\n",
       " '__sizeof__',\n",
       " '__str__',\n",
       " '__subclasshook__',\n",
       " '__weakref__',\n",
       " '_accumulatorServer',\n",
       " '_active_spark_context',\n",
       " '_assert_on_driver',\n",
       " '_batchSize',\n",
       " '_callsite',\n",
       " '_checkpointFile',\n",
       " '_conf',\n",
       " '_dictToJavaMap',\n",
       " '_do_init',\n",
       " '_encryption_enabled',\n",
       " '_ensure_initialized',\n",
       " '_gateway',\n",
       " '_getJavaStorageLevel',\n",
       " '_initialize_context',\n",
       " '_javaAccumulator',\n",
       " '_jsc',\n",
       " '_jvm',\n",
       " '_lock',\n",
       " '_next_accum_id',\n",
       " '_pickled_broadcast_vars',\n",
       " '_python_includes',\n",
       " '_repr_html_',\n",
       " '_serialize_to_jvm',\n",
       " '_temp_dir',\n",
       " '_unbatched_serializer',\n",
       " 'accumulator',\n",
       " 'addFile',\n",
       " 'addPyFile',\n",
       " 'appName',\n",
       " 'applicationId',\n",
       " 'binaryFiles',\n",
       " 'binaryRecords',\n",
       " 'broadcast',\n",
       " 'cancelAllJobs',\n",
       " 'cancelJobGroup',\n",
       " 'defaultMinPartitions',\n",
       " 'defaultParallelism',\n",
       " 'dump_profiles',\n",
       " 'emptyRDD',\n",
       " 'environment',\n",
       " 'getConf',\n",
       " 'getLocalProperty',\n",
       " 'getOrCreate',\n",
       " 'hadoopFile',\n",
       " 'hadoopRDD',\n",
       " 'master',\n",
       " 'newAPIHadoopFile',\n",
       " 'newAPIHadoopRDD',\n",
       " 'parallelize',\n",
       " 'pickleFile',\n",
       " 'profiler_collector',\n",
       " 'pythonExec',\n",
       " 'pythonVer',\n",
       " 'range',\n",
       " 'resources',\n",
       " 'runJob',\n",
       " 'sequenceFile',\n",
       " 'serializer',\n",
       " 'setCheckpointDir',\n",
       " 'setJobDescription',\n",
       " 'setJobGroup',\n",
       " 'setLocalProperty',\n",
       " 'setLogLevel',\n",
       " 'setSystemProperty',\n",
       " 'show_profiles',\n",
       " 'sparkHome',\n",
       " 'sparkUser',\n",
       " 'startTime',\n",
       " 'statusTracker',\n",
       " 'stop',\n",
       " 'textFile',\n",
       " 'uiWebUrl',\n",
       " 'union',\n",
       " 'version',\n",
       " 'wholeTextFiles']"
      ]
     },
     "execution_count": 7,
     "metadata": {},
     "output_type": "execute_result"
    }
   ],
   "source": [
    "dir(sc)"
   ]
  },
  {
   "cell_type": "code",
   "execution_count": 8,
   "metadata": {},
   "outputs": [],
   "source": [
    "sc.stop()"
   ]
  },
  {
   "cell_type": "code",
   "execution_count": 3,
   "metadata": {},
   "outputs": [
    {
     "data": {
      "text/html": [
       "\n",
       "        <div>\n",
       "            <p><b>SparkContext</b></p>\n",
       "\n",
       "            <p><a href=\"http://172.31.1.120:4041\">Spark UI</a></p>\n",
       "\n",
       "            <dl>\n",
       "              <dt>Version</dt>\n",
       "                <dd><code>v3.0.3</code></dd>\n",
       "              <dt>Master</dt>\n",
       "                <dd><code>local</code></dd>\n",
       "              <dt>AppName</dt>\n",
       "                <dd><code>pyspark_uygulama</code></dd>\n",
       "            </dl>\n",
       "        </div>\n",
       "        "
      ],
      "text/plain": [
       "<SparkContext master=local appName=pyspark_uygulama>"
      ]
     },
     "execution_count": 3,
     "metadata": {},
     "output_type": "execute_result"
    }
   ],
   "source": [
    "import pyspark\n",
    "from pyspark.sql import SparkSession\n",
    "from pyspark.conf import SparkConf\n",
    "from pyspark import SparkContext\n",
    "\n",
    "spark = SparkSession.builder \\\n",
    "    .master(\"local\") \\\n",
    "    .appName(\"pyspark_uygulama\") \\\n",
    "    .config(\"spark.executer.memory\", \"16gb\") \\\n",
    "    .getOrCreate()\n",
    "\n",
    "\n",
    "\n",
    "sc = spark.sparkContext\n",
    "sc"
   ]
  },
  {
   "cell_type": "markdown",
   "metadata": {},
   "source": [
    "# Functions"
   ]
  },
  {
   "cell_type": "markdown",
   "metadata": {},
   "source": [
    "## head-show"
   ]
  },
  {
   "cell_type": "code",
   "execution_count": 4,
   "metadata": {},
   "outputs": [
    {
     "data": {
      "text/html": [
       "<div>\n",
       "<style scoped>\n",
       "    .dataframe tbody tr th:only-of-type {\n",
       "        vertical-align: middle;\n",
       "    }\n",
       "\n",
       "    .dataframe tbody tr th {\n",
       "        vertical-align: top;\n",
       "    }\n",
       "\n",
       "    .dataframe thead th {\n",
       "        text-align: right;\n",
       "    }\n",
       "</style>\n",
       "<table border=\"1\" class=\"dataframe\">\n",
       "  <thead>\n",
       "    <tr style=\"text-align: right;\">\n",
       "      <th></th>\n",
       "      <th>age</th>\n",
       "      <th>sex</th>\n",
       "      <th>bmi</th>\n",
       "      <th>bp</th>\n",
       "    </tr>\n",
       "  </thead>\n",
       "  <tbody>\n",
       "    <tr>\n",
       "      <th>0</th>\n",
       "      <td>0.038076</td>\n",
       "      <td>0.050680</td>\n",
       "      <td>0.061696</td>\n",
       "      <td>0.021872</td>\n",
       "    </tr>\n",
       "    <tr>\n",
       "      <th>1</th>\n",
       "      <td>-0.001882</td>\n",
       "      <td>-0.044642</td>\n",
       "      <td>-0.051474</td>\n",
       "      <td>-0.026328</td>\n",
       "    </tr>\n",
       "    <tr>\n",
       "      <th>2</th>\n",
       "      <td>0.085299</td>\n",
       "      <td>0.050680</td>\n",
       "      <td>0.044451</td>\n",
       "      <td>-0.005671</td>\n",
       "    </tr>\n",
       "    <tr>\n",
       "      <th>3</th>\n",
       "      <td>-0.089063</td>\n",
       "      <td>-0.044642</td>\n",
       "      <td>-0.011595</td>\n",
       "      <td>-0.036656</td>\n",
       "    </tr>\n",
       "    <tr>\n",
       "      <th>4</th>\n",
       "      <td>0.005383</td>\n",
       "      <td>-0.044642</td>\n",
       "      <td>-0.036385</td>\n",
       "      <td>0.021872</td>\n",
       "    </tr>\n",
       "  </tbody>\n",
       "</table>\n",
       "</div>"
      ],
      "text/plain": [
       "        age       sex       bmi        bp\n",
       "0  0.038076  0.050680  0.061696  0.021872\n",
       "1 -0.001882 -0.044642 -0.051474 -0.026328\n",
       "2  0.085299  0.050680  0.044451 -0.005671\n",
       "3 -0.089063 -0.044642 -0.011595 -0.036656\n",
       "4  0.005383 -0.044642 -0.036385  0.021872"
      ]
     },
     "execution_count": 4,
     "metadata": {},
     "output_type": "execute_result"
    }
   ],
   "source": [
    "from sklearn.datasets import load_diabetes\n",
    "data = load_diabetes()\n",
    "pandas_df = pd.DataFrame(data=data.data, columns=data.feature_names).iloc[:,:4]\n",
    "pandas_df.head()"
   ]
  },
  {
   "cell_type": "code",
   "execution_count": 5,
   "metadata": {
    "scrolled": true
   },
   "outputs": [
    {
     "name": "stdout",
     "output_type": "stream",
     "text": [
      "+-----------+-------+-------------+-------------+-------+----+------------------------+---+-------+\n",
      "|Pregnancies|Glucose|BloodPressure|SkinThickness|Insulin| BMI|DiabetesPedigreeFunction|Age|Outcome|\n",
      "+-----------+-------+-------------+-------------+-------+----+------------------------+---+-------+\n",
      "|          6|    148|           72|           35|      0|33.6|                   0.627| 50|      1|\n",
      "|          1|     85|           66|           29|      0|26.6|                   0.351| 31|      0|\n",
      "|          8|    183|           64|            0|      0|23.3|                   0.672| 32|      1|\n",
      "|          1|     89|           66|           23|     94|28.1|                   0.167| 21|      0|\n",
      "|          0|    137|           40|           35|    168|43.1|                   2.288| 33|      1|\n",
      "+-----------+-------+-------------+-------------+-------+----+------------------------+---+-------+\n",
      "only showing top 5 rows\n",
      "\n"
     ]
    }
   ],
   "source": [
    "spark_df = spark.read.csv(\".\\\\PySpark_Diabetes\\\\diabetes.csv\", header = True, inferSchema = True)\n",
    "spark_df.show(5)"
   ]
  },
  {
   "cell_type": "markdown",
   "metadata": {},
   "source": [
    "## dtypes"
   ]
  },
  {
   "cell_type": "code",
   "execution_count": 75,
   "metadata": {},
   "outputs": [
    {
     "data": {
      "text/plain": [
       "age    float64\n",
       "sex    float64\n",
       "bmi    float64\n",
       "bp     float64\n",
       "dtype: object"
      ]
     },
     "execution_count": 75,
     "metadata": {},
     "output_type": "execute_result"
    }
   ],
   "source": [
    "pandas_df.dtypes"
   ]
  },
  {
   "cell_type": "code",
   "execution_count": 76,
   "metadata": {},
   "outputs": [
    {
     "data": {
      "text/plain": [
       "[('Pregnancies', 'int'),\n",
       " ('Glucose', 'int'),\n",
       " ('BloodPressure', 'int'),\n",
       " ('SkinThickness', 'int'),\n",
       " ('Insulin', 'int'),\n",
       " ('BMI', 'double'),\n",
       " ('DiabetesPedigreeFunction', 'double'),\n",
       " ('Age', 'int'),\n",
       " ('Outcome', 'int')]"
      ]
     },
     "execution_count": 76,
     "metadata": {},
     "output_type": "execute_result"
    }
   ],
   "source": [
    "spark_df.dtypes"
   ]
  },
  {
   "cell_type": "markdown",
   "metadata": {},
   "source": [
    "## info-printSchema"
   ]
  },
  {
   "cell_type": "code",
   "execution_count": 77,
   "metadata": {},
   "outputs": [
    {
     "name": "stdout",
     "output_type": "stream",
     "text": [
      "<class 'pandas.core.frame.DataFrame'>\n",
      "RangeIndex: 442 entries, 0 to 441\n",
      "Data columns (total 4 columns):\n",
      " #   Column  Non-Null Count  Dtype  \n",
      "---  ------  --------------  -----  \n",
      " 0   age     442 non-null    float64\n",
      " 1   sex     442 non-null    float64\n",
      " 2   bmi     442 non-null    float64\n",
      " 3   bp      442 non-null    float64\n",
      "dtypes: float64(4)\n",
      "memory usage: 13.9 KB\n"
     ]
    }
   ],
   "source": [
    "pandas_df.info()"
   ]
  },
  {
   "cell_type": "code",
   "execution_count": 78,
   "metadata": {},
   "outputs": [
    {
     "name": "stdout",
     "output_type": "stream",
     "text": [
      "root\n",
      " |-- Pregnancies: integer (nullable = true)\n",
      " |-- Glucose: integer (nullable = true)\n",
      " |-- BloodPressure: integer (nullable = true)\n",
      " |-- SkinThickness: integer (nullable = true)\n",
      " |-- Insulin: integer (nullable = true)\n",
      " |-- BMI: double (nullable = true)\n",
      " |-- DiabetesPedigreeFunction: double (nullable = true)\n",
      " |-- Age: integer (nullable = true)\n",
      " |-- Outcome: integer (nullable = true)\n",
      "\n"
     ]
    }
   ],
   "source": [
    "spark_df.printSchema()"
   ]
  },
  {
   "cell_type": "markdown",
   "metadata": {},
   "source": [
    "## type"
   ]
  },
  {
   "cell_type": "code",
   "execution_count": 79,
   "metadata": {},
   "outputs": [
    {
     "data": {
      "text/plain": [
       "pandas.core.frame.DataFrame"
      ]
     },
     "execution_count": 79,
     "metadata": {},
     "output_type": "execute_result"
    }
   ],
   "source": [
    "type(pandas_df)"
   ]
  },
  {
   "cell_type": "code",
   "execution_count": 80,
   "metadata": {},
   "outputs": [
    {
     "data": {
      "text/plain": [
       "pyspark.sql.dataframe.DataFrame"
      ]
     },
     "execution_count": 80,
     "metadata": {},
     "output_type": "execute_result"
    }
   ],
   "source": [
    "type(spark_df)"
   ]
  },
  {
   "cell_type": "markdown",
   "metadata": {},
   "source": [
    "## cache"
   ]
  },
  {
   "cell_type": "code",
   "execution_count": 81,
   "metadata": {},
   "outputs": [
    {
     "data": {
      "text/plain": [
       "DataFrame[Pregnancies: int, Glucose: int, BloodPressure: int, SkinThickness: int, Insulin: int, BMI: double, DiabetesPedigreeFunction: double, Age: int, Outcome: int]"
      ]
     },
     "execution_count": 81,
     "metadata": {},
     "output_type": "execute_result"
    }
   ],
   "source": [
    "spark_df.cache()"
   ]
  },
  {
   "cell_type": "markdown",
   "metadata": {},
   "source": [
    "## toPandas"
   ]
  },
  {
   "cell_type": "code",
   "execution_count": 82,
   "metadata": {},
   "outputs": [
    {
     "data": {
      "text/html": [
       "<div>\n",
       "<style scoped>\n",
       "    .dataframe tbody tr th:only-of-type {\n",
       "        vertical-align: middle;\n",
       "    }\n",
       "\n",
       "    .dataframe tbody tr th {\n",
       "        vertical-align: top;\n",
       "    }\n",
       "\n",
       "    .dataframe thead th {\n",
       "        text-align: right;\n",
       "    }\n",
       "</style>\n",
       "<table border=\"1\" class=\"dataframe\">\n",
       "  <thead>\n",
       "    <tr style=\"text-align: right;\">\n",
       "      <th></th>\n",
       "      <th>Pregnancies</th>\n",
       "      <th>Glucose</th>\n",
       "      <th>BloodPressure</th>\n",
       "      <th>SkinThickness</th>\n",
       "      <th>Insulin</th>\n",
       "      <th>BMI</th>\n",
       "      <th>DiabetesPedigreeFunction</th>\n",
       "      <th>Age</th>\n",
       "      <th>Outcome</th>\n",
       "    </tr>\n",
       "  </thead>\n",
       "  <tbody>\n",
       "    <tr>\n",
       "      <th>0</th>\n",
       "      <td>6</td>\n",
       "      <td>148</td>\n",
       "      <td>72</td>\n",
       "      <td>35</td>\n",
       "      <td>0</td>\n",
       "      <td>33.6</td>\n",
       "      <td>0.627</td>\n",
       "      <td>50</td>\n",
       "      <td>1</td>\n",
       "    </tr>\n",
       "    <tr>\n",
       "      <th>1</th>\n",
       "      <td>1</td>\n",
       "      <td>85</td>\n",
       "      <td>66</td>\n",
       "      <td>29</td>\n",
       "      <td>0</td>\n",
       "      <td>26.6</td>\n",
       "      <td>0.351</td>\n",
       "      <td>31</td>\n",
       "      <td>0</td>\n",
       "    </tr>\n",
       "    <tr>\n",
       "      <th>2</th>\n",
       "      <td>8</td>\n",
       "      <td>183</td>\n",
       "      <td>64</td>\n",
       "      <td>0</td>\n",
       "      <td>0</td>\n",
       "      <td>23.3</td>\n",
       "      <td>0.672</td>\n",
       "      <td>32</td>\n",
       "      <td>1</td>\n",
       "    </tr>\n",
       "    <tr>\n",
       "      <th>3</th>\n",
       "      <td>1</td>\n",
       "      <td>89</td>\n",
       "      <td>66</td>\n",
       "      <td>23</td>\n",
       "      <td>94</td>\n",
       "      <td>28.1</td>\n",
       "      <td>0.167</td>\n",
       "      <td>21</td>\n",
       "      <td>0</td>\n",
       "    </tr>\n",
       "    <tr>\n",
       "      <th>4</th>\n",
       "      <td>0</td>\n",
       "      <td>137</td>\n",
       "      <td>40</td>\n",
       "      <td>35</td>\n",
       "      <td>168</td>\n",
       "      <td>43.1</td>\n",
       "      <td>2.288</td>\n",
       "      <td>33</td>\n",
       "      <td>1</td>\n",
       "    </tr>\n",
       "  </tbody>\n",
       "</table>\n",
       "</div>"
      ],
      "text/plain": [
       "   Pregnancies  Glucose  BloodPressure  SkinThickness  Insulin   BMI  \\\n",
       "0            6      148             72             35        0  33.6   \n",
       "1            1       85             66             29        0  26.6   \n",
       "2            8      183             64              0        0  23.3   \n",
       "3            1       89             66             23       94  28.1   \n",
       "4            0      137             40             35      168  43.1   \n",
       "\n",
       "   DiabetesPedigreeFunction  Age  Outcome  \n",
       "0                     0.627   50        1  \n",
       "1                     0.351   31        0  \n",
       "2                     0.672   32        1  \n",
       "3                     0.167   21        0  \n",
       "4                     2.288   33        1  "
      ]
     },
     "execution_count": 82,
     "metadata": {},
     "output_type": "execute_result"
    }
   ],
   "source": [
    "spark_df.toPandas().head(5)"
   ]
  },
  {
   "cell_type": "markdown",
   "metadata": {},
   "source": [
    "## Convert Pandas to PySpark DataFrame"
   ]
  },
  {
   "cell_type": "code",
   "execution_count": 86,
   "metadata": {},
   "outputs": [
    {
     "name": "stdout",
     "output_type": "stream",
     "text": [
      "+--------------------+------------------+-------------------+--------------------+\n",
      "|                 age|               sex|                bmi|                  bp|\n",
      "+--------------------+------------------+-------------------+--------------------+\n",
      "|  0.0380759064334241|0.0506801187398187| 0.0616962065186885|  0.0218723549949558|\n",
      "|-0.00188201652779104|-0.044641636506989|-0.0514740612388061| -0.0263278347173518|\n",
      "|  0.0852989062966783|0.0506801187398187| 0.0444512133365941|-0.00567061055493425|\n",
      "| -0.0890629393522603|-0.044641636506989|-0.0115950145052127| -0.0366564467985606|\n",
      "| 0.00538306037424807|-0.044641636506989|-0.0363846922044735|  0.0218723549949558|\n",
      "+--------------------+------------------+-------------------+--------------------+\n",
      "only showing top 5 rows\n",
      "\n"
     ]
    }
   ],
   "source": [
    "spark.createDataFrame(pandas_df).show(5)"
   ]
  },
  {
   "cell_type": "code",
   "execution_count": 87,
   "metadata": {},
   "outputs": [
    {
     "data": {
      "text/plain": [
       "[Row(Pregnancies=6, Glucose=148, BloodPressure=72, SkinThickness=35, Insulin=0, BMI=33.6, DiabetesPedigreeFunction=0.627, Age=50, Outcome=1),\n",
       " Row(Pregnancies=1, Glucose=85, BloodPressure=66, SkinThickness=29, Insulin=0, BMI=26.6, DiabetesPedigreeFunction=0.351, Age=31, Outcome=0),\n",
       " Row(Pregnancies=8, Glucose=183, BloodPressure=64, SkinThickness=0, Insulin=0, BMI=23.3, DiabetesPedigreeFunction=0.672, Age=32, Outcome=1),\n",
       " Row(Pregnancies=1, Glucose=89, BloodPressure=66, SkinThickness=23, Insulin=94, BMI=28.1, DiabetesPedigreeFunction=0.167, Age=21, Outcome=0),\n",
       " Row(Pregnancies=0, Glucose=137, BloodPressure=40, SkinThickness=35, Insulin=168, BMI=43.1, DiabetesPedigreeFunction=2.288, Age=33, Outcome=1)]"
      ]
     },
     "execution_count": 87,
     "metadata": {},
     "output_type": "execute_result"
    }
   ],
   "source": [
    "spark_df.head(5)\n",
    "# or\n",
    "# spark_df.collect()[:5]"
   ]
  },
  {
   "cell_type": "markdown",
   "metadata": {},
   "source": [
    "## shape"
   ]
  },
  {
   "cell_type": "code",
   "execution_count": 99,
   "metadata": {},
   "outputs": [
    {
     "data": {
      "text/plain": [
       "(442, 4)"
      ]
     },
     "execution_count": 99,
     "metadata": {},
     "output_type": "execute_result"
    }
   ],
   "source": [
    "pandas_df.shape"
   ]
  },
  {
   "cell_type": "code",
   "execution_count": 98,
   "metadata": {},
   "outputs": [
    {
     "data": {
      "text/plain": [
       "(768, 9)"
      ]
     },
     "execution_count": 98,
     "metadata": {},
     "output_type": "execute_result"
    }
   ],
   "source": [
    "(spark_df.count(), len(spark_df.columns))"
   ]
  },
  {
   "cell_type": "code",
   "execution_count": 100,
   "metadata": {},
   "outputs": [
    {
     "data": {
      "text/plain": [
       "2"
      ]
     },
     "execution_count": 100,
     "metadata": {},
     "output_type": "execute_result"
    }
   ],
   "source": [
    "pandas_df.ndim"
   ]
  },
  {
   "cell_type": "markdown",
   "metadata": {},
   "source": [
    "## len-count"
   ]
  },
  {
   "cell_type": "code",
   "execution_count": 107,
   "metadata": {},
   "outputs": [
    {
     "data": {
      "text/plain": [
       "442"
      ]
     },
     "execution_count": 107,
     "metadata": {},
     "output_type": "execute_result"
    }
   ],
   "source": [
    "len(pandas_df)"
   ]
  },
  {
   "cell_type": "code",
   "execution_count": 103,
   "metadata": {},
   "outputs": [
    {
     "data": {
      "text/plain": [
       "768"
      ]
     },
     "execution_count": 103,
     "metadata": {},
     "output_type": "execute_result"
    }
   ],
   "source": [
    "spark_df.count()"
   ]
  },
  {
   "cell_type": "markdown",
   "metadata": {},
   "source": [
    "## describe"
   ]
  },
  {
   "cell_type": "code",
   "execution_count": 110,
   "metadata": {},
   "outputs": [
    {
     "data": {
      "text/html": [
       "<div>\n",
       "<style scoped>\n",
       "    .dataframe tbody tr th:only-of-type {\n",
       "        vertical-align: middle;\n",
       "    }\n",
       "\n",
       "    .dataframe tbody tr th {\n",
       "        vertical-align: top;\n",
       "    }\n",
       "\n",
       "    .dataframe thead th {\n",
       "        text-align: right;\n",
       "    }\n",
       "</style>\n",
       "<table border=\"1\" class=\"dataframe\">\n",
       "  <thead>\n",
       "    <tr style=\"text-align: right;\">\n",
       "      <th></th>\n",
       "      <th>age</th>\n",
       "      <th>sex</th>\n",
       "      <th>bmi</th>\n",
       "      <th>bp</th>\n",
       "    </tr>\n",
       "  </thead>\n",
       "  <tbody>\n",
       "    <tr>\n",
       "      <th>count</th>\n",
       "      <td>4.420000e+02</td>\n",
       "      <td>4.420000e+02</td>\n",
       "      <td>4.420000e+02</td>\n",
       "      <td>4.420000e+02</td>\n",
       "    </tr>\n",
       "    <tr>\n",
       "      <th>mean</th>\n",
       "      <td>-3.634285e-16</td>\n",
       "      <td>1.308343e-16</td>\n",
       "      <td>-8.045349e-16</td>\n",
       "      <td>1.281655e-16</td>\n",
       "    </tr>\n",
       "    <tr>\n",
       "      <th>std</th>\n",
       "      <td>4.761905e-02</td>\n",
       "      <td>4.761905e-02</td>\n",
       "      <td>4.761905e-02</td>\n",
       "      <td>4.761905e-02</td>\n",
       "    </tr>\n",
       "    <tr>\n",
       "      <th>min</th>\n",
       "      <td>-1.072256e-01</td>\n",
       "      <td>-4.464164e-02</td>\n",
       "      <td>-9.027530e-02</td>\n",
       "      <td>-1.123996e-01</td>\n",
       "    </tr>\n",
       "    <tr>\n",
       "      <th>25%</th>\n",
       "      <td>-3.729927e-02</td>\n",
       "      <td>-4.464164e-02</td>\n",
       "      <td>-3.422907e-02</td>\n",
       "      <td>-3.665645e-02</td>\n",
       "    </tr>\n",
       "    <tr>\n",
       "      <th>50%</th>\n",
       "      <td>5.383060e-03</td>\n",
       "      <td>-4.464164e-02</td>\n",
       "      <td>-7.283766e-03</td>\n",
       "      <td>-5.670611e-03</td>\n",
       "    </tr>\n",
       "    <tr>\n",
       "      <th>75%</th>\n",
       "      <td>3.807591e-02</td>\n",
       "      <td>5.068012e-02</td>\n",
       "      <td>3.124802e-02</td>\n",
       "      <td>3.564384e-02</td>\n",
       "    </tr>\n",
       "    <tr>\n",
       "      <th>max</th>\n",
       "      <td>1.107267e-01</td>\n",
       "      <td>5.068012e-02</td>\n",
       "      <td>1.705552e-01</td>\n",
       "      <td>1.320442e-01</td>\n",
       "    </tr>\n",
       "  </tbody>\n",
       "</table>\n",
       "</div>"
      ],
      "text/plain": [
       "                age           sex           bmi            bp\n",
       "count  4.420000e+02  4.420000e+02  4.420000e+02  4.420000e+02\n",
       "mean  -3.634285e-16  1.308343e-16 -8.045349e-16  1.281655e-16\n",
       "std    4.761905e-02  4.761905e-02  4.761905e-02  4.761905e-02\n",
       "min   -1.072256e-01 -4.464164e-02 -9.027530e-02 -1.123996e-01\n",
       "25%   -3.729927e-02 -4.464164e-02 -3.422907e-02 -3.665645e-02\n",
       "50%    5.383060e-03 -4.464164e-02 -7.283766e-03 -5.670611e-03\n",
       "75%    3.807591e-02  5.068012e-02  3.124802e-02  3.564384e-02\n",
       "max    1.107267e-01  5.068012e-02  1.705552e-01  1.320442e-01"
      ]
     },
     "execution_count": 110,
     "metadata": {},
     "output_type": "execute_result"
    }
   ],
   "source": [
    "pandas_df.describe()"
   ]
  },
  {
   "cell_type": "code",
   "execution_count": 116,
   "metadata": {},
   "outputs": [
    {
     "data": {
      "text/html": [
       "<div>\n",
       "<style scoped>\n",
       "    .dataframe tbody tr th:only-of-type {\n",
       "        vertical-align: middle;\n",
       "    }\n",
       "\n",
       "    .dataframe tbody tr th {\n",
       "        vertical-align: top;\n",
       "    }\n",
       "\n",
       "    .dataframe thead th {\n",
       "        text-align: right;\n",
       "    }\n",
       "</style>\n",
       "<table border=\"1\" class=\"dataframe\">\n",
       "  <thead>\n",
       "    <tr style=\"text-align: right;\">\n",
       "      <th></th>\n",
       "      <th>summary</th>\n",
       "      <th>Pregnancies</th>\n",
       "      <th>Glucose</th>\n",
       "      <th>BloodPressure</th>\n",
       "      <th>SkinThickness</th>\n",
       "      <th>Insulin</th>\n",
       "      <th>BMI</th>\n",
       "      <th>DiabetesPedigreeFunction</th>\n",
       "      <th>Age</th>\n",
       "      <th>Outcome</th>\n",
       "    </tr>\n",
       "  </thead>\n",
       "  <tbody>\n",
       "    <tr>\n",
       "      <th>0</th>\n",
       "      <td>count</td>\n",
       "      <td>768</td>\n",
       "      <td>768</td>\n",
       "      <td>768</td>\n",
       "      <td>768</td>\n",
       "      <td>768</td>\n",
       "      <td>768</td>\n",
       "      <td>768</td>\n",
       "      <td>768</td>\n",
       "      <td>768</td>\n",
       "    </tr>\n",
       "    <tr>\n",
       "      <th>1</th>\n",
       "      <td>mean</td>\n",
       "      <td>3.8450520833333335</td>\n",
       "      <td>120.89453125</td>\n",
       "      <td>69.10546875</td>\n",
       "      <td>20.536458333333332</td>\n",
       "      <td>79.79947916666667</td>\n",
       "      <td>31.992578124999977</td>\n",
       "      <td>0.4718763020833327</td>\n",
       "      <td>33.240885416666664</td>\n",
       "      <td>0.3489583333333333</td>\n",
       "    </tr>\n",
       "    <tr>\n",
       "      <th>2</th>\n",
       "      <td>stddev</td>\n",
       "      <td>3.36957806269887</td>\n",
       "      <td>31.97261819513622</td>\n",
       "      <td>19.355807170644777</td>\n",
       "      <td>15.952217567727642</td>\n",
       "      <td>115.24400235133803</td>\n",
       "      <td>7.884160320375441</td>\n",
       "      <td>0.331328595012775</td>\n",
       "      <td>11.760231540678689</td>\n",
       "      <td>0.476951377242799</td>\n",
       "    </tr>\n",
       "    <tr>\n",
       "      <th>3</th>\n",
       "      <td>min</td>\n",
       "      <td>0</td>\n",
       "      <td>0</td>\n",
       "      <td>0</td>\n",
       "      <td>0</td>\n",
       "      <td>0</td>\n",
       "      <td>0.0</td>\n",
       "      <td>0.078</td>\n",
       "      <td>21</td>\n",
       "      <td>0</td>\n",
       "    </tr>\n",
       "    <tr>\n",
       "      <th>4</th>\n",
       "      <td>max</td>\n",
       "      <td>17</td>\n",
       "      <td>199</td>\n",
       "      <td>122</td>\n",
       "      <td>99</td>\n",
       "      <td>846</td>\n",
       "      <td>67.1</td>\n",
       "      <td>2.42</td>\n",
       "      <td>81</td>\n",
       "      <td>1</td>\n",
       "    </tr>\n",
       "  </tbody>\n",
       "</table>\n",
       "</div>"
      ],
      "text/plain": [
       "  summary         Pregnancies            Glucose       BloodPressure  \\\n",
       "0   count                 768                768                 768   \n",
       "1    mean  3.8450520833333335       120.89453125         69.10546875   \n",
       "2  stddev    3.36957806269887  31.97261819513622  19.355807170644777   \n",
       "3     min                   0                  0                   0   \n",
       "4     max                  17                199                 122   \n",
       "\n",
       "        SkinThickness             Insulin                 BMI  \\\n",
       "0                 768                 768                 768   \n",
       "1  20.536458333333332   79.79947916666667  31.992578124999977   \n",
       "2  15.952217567727642  115.24400235133803   7.884160320375441   \n",
       "3                   0                   0                 0.0   \n",
       "4                  99                 846                67.1   \n",
       "\n",
       "  DiabetesPedigreeFunction                 Age             Outcome  \n",
       "0                      768                 768                 768  \n",
       "1       0.4718763020833327  33.240885416666664  0.3489583333333333  \n",
       "2        0.331328595012775  11.760231540678689   0.476951377242799  \n",
       "3                    0.078                  21                   0  \n",
       "4                     2.42                  81                   1  "
      ]
     },
     "execution_count": 116,
     "metadata": {},
     "output_type": "execute_result"
    }
   ],
   "source": [
    "spark_df.describe().toPandas()"
   ]
  },
  {
   "cell_type": "code",
   "execution_count": 120,
   "metadata": {},
   "outputs": [
    {
     "data": {
      "text/plain": [
       "count    4.420000e+02\n",
       "mean    -3.634285e-16\n",
       "std      4.761905e-02\n",
       "min     -1.072256e-01\n",
       "25%     -3.729927e-02\n",
       "50%      5.383060e-03\n",
       "75%      3.807591e-02\n",
       "max      1.107267e-01\n",
       "Name: age, dtype: float64"
      ]
     },
     "execution_count": 120,
     "metadata": {},
     "output_type": "execute_result"
    }
   ],
   "source": [
    "pandas_df.age.describe()"
   ]
  },
  {
   "cell_type": "code",
   "execution_count": 122,
   "metadata": {},
   "outputs": [
    {
     "name": "stdout",
     "output_type": "stream",
     "text": [
      "+-------+-----------------+\n",
      "|summary|          Glucose|\n",
      "+-------+-----------------+\n",
      "|  count|              768|\n",
      "|   mean|     120.89453125|\n",
      "| stddev|31.97261819513622|\n",
      "|    min|                0|\n",
      "|    max|              199|\n",
      "+-------+-----------------+\n",
      "\n"
     ]
    }
   ],
   "source": [
    "spark_df.describe(\"Glucose\").show()"
   ]
  },
  {
   "cell_type": "markdown",
   "metadata": {},
   "source": [
    "## Select variables"
   ]
  },
  {
   "cell_type": "code",
   "execution_count": 124,
   "metadata": {},
   "outputs": [
    {
     "data": {
      "text/html": [
       "<div>\n",
       "<style scoped>\n",
       "    .dataframe tbody tr th:only-of-type {\n",
       "        vertical-align: middle;\n",
       "    }\n",
       "\n",
       "    .dataframe tbody tr th {\n",
       "        vertical-align: top;\n",
       "    }\n",
       "\n",
       "    .dataframe thead th {\n",
       "        text-align: right;\n",
       "    }\n",
       "</style>\n",
       "<table border=\"1\" class=\"dataframe\">\n",
       "  <thead>\n",
       "    <tr style=\"text-align: right;\">\n",
       "      <th></th>\n",
       "      <th>age</th>\n",
       "      <th>bmi</th>\n",
       "    </tr>\n",
       "  </thead>\n",
       "  <tbody>\n",
       "    <tr>\n",
       "      <th>0</th>\n",
       "      <td>0.038076</td>\n",
       "      <td>0.061696</td>\n",
       "    </tr>\n",
       "    <tr>\n",
       "      <th>1</th>\n",
       "      <td>-0.001882</td>\n",
       "      <td>-0.051474</td>\n",
       "    </tr>\n",
       "    <tr>\n",
       "      <th>2</th>\n",
       "      <td>0.085299</td>\n",
       "      <td>0.044451</td>\n",
       "    </tr>\n",
       "    <tr>\n",
       "      <th>3</th>\n",
       "      <td>-0.089063</td>\n",
       "      <td>-0.011595</td>\n",
       "    </tr>\n",
       "    <tr>\n",
       "      <th>4</th>\n",
       "      <td>0.005383</td>\n",
       "      <td>-0.036385</td>\n",
       "    </tr>\n",
       "  </tbody>\n",
       "</table>\n",
       "</div>"
      ],
      "text/plain": [
       "        age       bmi\n",
       "0  0.038076  0.061696\n",
       "1 -0.001882 -0.051474\n",
       "2  0.085299  0.044451\n",
       "3 -0.089063 -0.011595\n",
       "4  0.005383 -0.036385"
      ]
     },
     "execution_count": 124,
     "metadata": {},
     "output_type": "execute_result"
    }
   ],
   "source": [
    "pandas_df[[\"age\",'bmi']].head(5)"
   ]
  },
  {
   "cell_type": "code",
   "execution_count": 123,
   "metadata": {},
   "outputs": [
    {
     "name": "stdout",
     "output_type": "stream",
     "text": [
      "+-------+-----------+\n",
      "|Glucose|Pregnancies|\n",
      "+-------+-----------+\n",
      "|    148|          6|\n",
      "|     85|          1|\n",
      "|    183|          8|\n",
      "|     89|          1|\n",
      "|    137|          0|\n",
      "+-------+-----------+\n",
      "only showing top 5 rows\n",
      "\n"
     ]
    }
   ],
   "source": [
    "spark_df.select(\"Glucose\",\"Pregnancies\").show(5)"
   ]
  },
  {
   "cell_type": "markdown",
   "metadata": {},
   "source": [
    "## nunique-distinct"
   ]
  },
  {
   "cell_type": "code",
   "execution_count": 126,
   "metadata": {},
   "outputs": [
    {
     "data": {
      "text/plain": [
       "58"
      ]
     },
     "execution_count": 126,
     "metadata": {},
     "output_type": "execute_result"
    }
   ],
   "source": [
    "pandas_df.age.nunique()"
   ]
  },
  {
   "cell_type": "code",
   "execution_count": 125,
   "metadata": {},
   "outputs": [
    {
     "data": {
      "text/plain": [
       "136"
      ]
     },
     "execution_count": 125,
     "metadata": {},
     "output_type": "execute_result"
    }
   ],
   "source": [
    "spark_df.select(\"Glucose\").distinct().count()"
   ]
  },
  {
   "cell_type": "markdown",
   "metadata": {},
   "source": [
    "## duplicated().sum() - dropDuplicates().count()"
   ]
  },
  {
   "cell_type": "code",
   "execution_count": 133,
   "metadata": {},
   "outputs": [
    {
     "data": {
      "text/plain": [
       "0"
      ]
     },
     "execution_count": 133,
     "metadata": {},
     "output_type": "execute_result"
    }
   ],
   "source": [
    "pandas_df.duplicated().sum()"
   ]
  },
  {
   "cell_type": "code",
   "execution_count": 145,
   "metadata": {},
   "outputs": [
    {
     "data": {
      "text/plain": [
       "384"
      ]
     },
     "execution_count": 145,
     "metadata": {},
     "output_type": "execute_result"
    }
   ],
   "source": [
    "pandas_df.age.duplicated().sum()"
   ]
  },
  {
   "cell_type": "code",
   "execution_count": 157,
   "metadata": {},
   "outputs": [
    {
     "data": {
      "text/plain": [
       "1"
      ]
     },
     "execution_count": 157,
     "metadata": {},
     "output_type": "execute_result"
    }
   ],
   "source": [
    "spark_df.select().dropDuplicates().count()"
   ]
  },
  {
   "cell_type": "code",
   "execution_count": 156,
   "metadata": {},
   "outputs": [
    {
     "data": {
      "text/plain": [
       "136"
      ]
     },
     "execution_count": 156,
     "metadata": {},
     "output_type": "execute_result"
    }
   ],
   "source": [
    "spark_df.select(\"Glucose\").dropDuplicates().count()"
   ]
  },
  {
   "cell_type": "markdown",
   "metadata": {},
   "source": [
    "## drop_duplicates-dropDuplicates"
   ]
  },
  {
   "cell_type": "code",
   "execution_count": 148,
   "metadata": {},
   "outputs": [],
   "source": [
    "pandas_df.drop_duplicates(inplace=True)"
   ]
  },
  {
   "cell_type": "code",
   "execution_count": 155,
   "metadata": {},
   "outputs": [],
   "source": [
    "spark_df = spark_df.select().dropDuplicates()"
   ]
  },
  {
   "cell_type": "code",
   "execution_count": 158,
   "metadata": {},
   "outputs": [],
   "source": [
    "spark_df = spark_df.select(\"Glucose\").dropDuplicates()"
   ]
  },
  {
   "cell_type": "markdown",
   "metadata": {},
   "source": [
    "## pd.crosstab - crosstab"
   ]
  },
  {
   "cell_type": "code",
   "execution_count": 170,
   "metadata": {},
   "outputs": [
    {
     "data": {
      "text/html": [
       "<div>\n",
       "<style scoped>\n",
       "    .dataframe tbody tr th:only-of-type {\n",
       "        vertical-align: middle;\n",
       "    }\n",
       "\n",
       "    .dataframe tbody tr th {\n",
       "        vertical-align: top;\n",
       "    }\n",
       "\n",
       "    .dataframe thead th {\n",
       "        text-align: right;\n",
       "    }\n",
       "</style>\n",
       "<table border=\"1\" class=\"dataframe\">\n",
       "  <thead>\n",
       "    <tr style=\"text-align: right;\">\n",
       "      <th>age</th>\n",
       "      <th>-0.107226</th>\n",
       "      <th>-0.103593</th>\n",
       "      <th>-0.099961</th>\n",
       "      <th>-0.096328</th>\n",
       "      <th>-0.092695</th>\n",
       "      <th>-0.089063</th>\n",
       "      <th>-0.085430</th>\n",
       "      <th>-0.081798</th>\n",
       "      <th>-0.078165</th>\n",
       "      <th>-0.074533</th>\n",
       "      <th>...</th>\n",
       "      <th>0.067136</th>\n",
       "      <th>0.070769</th>\n",
       "      <th>0.074401</th>\n",
       "      <th>0.078034</th>\n",
       "      <th>0.081666</th>\n",
       "      <th>0.085299</th>\n",
       "      <th>0.088931</th>\n",
       "      <th>0.092564</th>\n",
       "      <th>0.096197</th>\n",
       "      <th>0.110727</th>\n",
       "    </tr>\n",
       "    <tr>\n",
       "      <th>sex</th>\n",
       "      <th></th>\n",
       "      <th></th>\n",
       "      <th></th>\n",
       "      <th></th>\n",
       "      <th></th>\n",
       "      <th></th>\n",
       "      <th></th>\n",
       "      <th></th>\n",
       "      <th></th>\n",
       "      <th></th>\n",
       "      <th></th>\n",
       "      <th></th>\n",
       "      <th></th>\n",
       "      <th></th>\n",
       "      <th></th>\n",
       "      <th></th>\n",
       "      <th></th>\n",
       "      <th></th>\n",
       "      <th></th>\n",
       "      <th></th>\n",
       "      <th></th>\n",
       "    </tr>\n",
       "  </thead>\n",
       "  <tbody>\n",
       "    <tr>\n",
       "      <th>-0.044642</th>\n",
       "      <td>3</td>\n",
       "      <td>1</td>\n",
       "      <td>2</td>\n",
       "      <td>4</td>\n",
       "      <td>3</td>\n",
       "      <td>3</td>\n",
       "      <td>2</td>\n",
       "      <td>1</td>\n",
       "      <td>3</td>\n",
       "      <td>4</td>\n",
       "      <td>...</td>\n",
       "      <td>5</td>\n",
       "      <td>3</td>\n",
       "      <td>5</td>\n",
       "      <td>0</td>\n",
       "      <td>1</td>\n",
       "      <td>0</td>\n",
       "      <td>1</td>\n",
       "      <td>1</td>\n",
       "      <td>2</td>\n",
       "      <td>0</td>\n",
       "    </tr>\n",
       "    <tr>\n",
       "      <th>0.050680</th>\n",
       "      <td>0</td>\n",
       "      <td>2</td>\n",
       "      <td>0</td>\n",
       "      <td>0</td>\n",
       "      <td>1</td>\n",
       "      <td>0</td>\n",
       "      <td>3</td>\n",
       "      <td>1</td>\n",
       "      <td>1</td>\n",
       "      <td>4</td>\n",
       "      <td>...</td>\n",
       "      <td>8</td>\n",
       "      <td>4</td>\n",
       "      <td>1</td>\n",
       "      <td>1</td>\n",
       "      <td>4</td>\n",
       "      <td>1</td>\n",
       "      <td>0</td>\n",
       "      <td>0</td>\n",
       "      <td>0</td>\n",
       "      <td>2</td>\n",
       "    </tr>\n",
       "  </tbody>\n",
       "</table>\n",
       "<p>2 rows × 58 columns</p>\n",
       "</div>"
      ],
      "text/plain": [
       "age        -0.107226  -0.103593  -0.099961  -0.096328  -0.092695  -0.089063  \\\n",
       "sex                                                                           \n",
       "-0.044642          3          1          2          4          3          3   \n",
       " 0.050680          0          2          0          0          1          0   \n",
       "\n",
       "age        -0.085430  -0.081798  -0.078165  -0.074533  ...   0.067136  \\\n",
       "sex                                                    ...              \n",
       "-0.044642          2          1          3          4  ...          5   \n",
       " 0.050680          3          1          1          4  ...          8   \n",
       "\n",
       "age         0.070769   0.074401   0.078034   0.081666   0.085299   0.088931  \\\n",
       "sex                                                                           \n",
       "-0.044642          3          5          0          1          0          1   \n",
       " 0.050680          4          1          1          4          1          0   \n",
       "\n",
       "age         0.092564   0.096197   0.110727  \n",
       "sex                                         \n",
       "-0.044642          1          2          0  \n",
       " 0.050680          0          0          2  \n",
       "\n",
       "[2 rows x 58 columns]"
      ]
     },
     "execution_count": 170,
     "metadata": {},
     "output_type": "execute_result"
    }
   ],
   "source": [
    "pd.crosstab(pandas_df.sex, pandas_df.age)"
   ]
  },
  {
   "cell_type": "code",
   "execution_count": 165,
   "metadata": {},
   "outputs": [
    {
     "name": "stdout",
     "output_type": "stream",
     "text": [
      "+-------------------+---+---+---+---+---+---+---+---+---+---+---+---+---+---+---+---+---+\n",
      "|Outcome_Pregnancies|  0|  1| 10| 11| 12| 13| 14| 15| 17|  2|  3|  4|  5|  6|  7|  8|  9|\n",
      "+-------------------+---+---+---+---+---+---+---+---+---+---+---+---+---+---+---+---+---+\n",
      "|                  1| 38| 29| 10|  7|  4|  5|  2|  1|  1| 19| 27| 23| 21| 16| 25| 22| 18|\n",
      "|                  0| 73|106| 14|  4|  5|  5|  0|  0|  0| 84| 48| 45| 36| 34| 20| 16| 10|\n",
      "+-------------------+---+---+---+---+---+---+---+---+---+---+---+---+---+---+---+---+---+\n",
      "\n"
     ]
    }
   ],
   "source": [
    "spark_df.crosstab(\"Outcome\",\"Pregnancies\").show()"
   ]
  },
  {
   "cell_type": "markdown",
   "metadata": {},
   "source": [
    "## dropna"
   ]
  },
  {
   "cell_type": "code",
   "execution_count": 178,
   "metadata": {},
   "outputs": [
    {
     "data": {
      "text/html": [
       "<div>\n",
       "<style scoped>\n",
       "    .dataframe tbody tr th:only-of-type {\n",
       "        vertical-align: middle;\n",
       "    }\n",
       "\n",
       "    .dataframe tbody tr th {\n",
       "        vertical-align: top;\n",
       "    }\n",
       "\n",
       "    .dataframe thead th {\n",
       "        text-align: right;\n",
       "    }\n",
       "</style>\n",
       "<table border=\"1\" class=\"dataframe\">\n",
       "  <thead>\n",
       "    <tr style=\"text-align: right;\">\n",
       "      <th></th>\n",
       "      <th>age</th>\n",
       "      <th>sex</th>\n",
       "      <th>bmi</th>\n",
       "      <th>bp</th>\n",
       "    </tr>\n",
       "  </thead>\n",
       "  <tbody>\n",
       "    <tr>\n",
       "      <th>0</th>\n",
       "      <td>0.038076</td>\n",
       "      <td>0.050680</td>\n",
       "      <td>0.061696</td>\n",
       "      <td>0.021872</td>\n",
       "    </tr>\n",
       "    <tr>\n",
       "      <th>1</th>\n",
       "      <td>-0.001882</td>\n",
       "      <td>-0.044642</td>\n",
       "      <td>-0.051474</td>\n",
       "      <td>-0.026328</td>\n",
       "    </tr>\n",
       "    <tr>\n",
       "      <th>2</th>\n",
       "      <td>0.085299</td>\n",
       "      <td>0.050680</td>\n",
       "      <td>0.044451</td>\n",
       "      <td>-0.005671</td>\n",
       "    </tr>\n",
       "    <tr>\n",
       "      <th>3</th>\n",
       "      <td>-0.089063</td>\n",
       "      <td>-0.044642</td>\n",
       "      <td>-0.011595</td>\n",
       "      <td>-0.036656</td>\n",
       "    </tr>\n",
       "    <tr>\n",
       "      <th>4</th>\n",
       "      <td>0.005383</td>\n",
       "      <td>-0.044642</td>\n",
       "      <td>-0.036385</td>\n",
       "      <td>0.021872</td>\n",
       "    </tr>\n",
       "  </tbody>\n",
       "</table>\n",
       "</div>"
      ],
      "text/plain": [
       "        age       sex       bmi        bp\n",
       "0  0.038076  0.050680  0.061696  0.021872\n",
       "1 -0.001882 -0.044642 -0.051474 -0.026328\n",
       "2  0.085299  0.050680  0.044451 -0.005671\n",
       "3 -0.089063 -0.044642 -0.011595 -0.036656\n",
       "4  0.005383 -0.044642 -0.036385  0.021872"
      ]
     },
     "execution_count": 178,
     "metadata": {},
     "output_type": "execute_result"
    }
   ],
   "source": [
    "pandas_df.dropna().head(5)"
   ]
  },
  {
   "cell_type": "code",
   "execution_count": 176,
   "metadata": {},
   "outputs": [
    {
     "name": "stdout",
     "output_type": "stream",
     "text": [
      "+-----------+-------+-------------+-------------+-------+----+------------------------+---+-------+\n",
      "|Pregnancies|Glucose|BloodPressure|SkinThickness|Insulin| BMI|DiabetesPedigreeFunction|Age|Outcome|\n",
      "+-----------+-------+-------------+-------------+-------+----+------------------------+---+-------+\n",
      "|          6|    148|           72|           35|      0|33.6|                   0.627| 50|      1|\n",
      "|          1|     85|           66|           29|      0|26.6|                   0.351| 31|      0|\n",
      "|          8|    183|           64|            0|      0|23.3|                   0.672| 32|      1|\n",
      "|          1|     89|           66|           23|     94|28.1|                   0.167| 21|      0|\n",
      "|          0|    137|           40|           35|    168|43.1|                   2.288| 33|      1|\n",
      "+-----------+-------+-------------+-------------+-------+----+------------------------+---+-------+\n",
      "only showing top 5 rows\n",
      "\n"
     ]
    }
   ],
   "source": [
    "spark_df.dropna().show(5)"
   ]
  },
  {
   "cell_type": "markdown",
   "metadata": {},
   "source": [
    "## isna().sum() - isnan"
   ]
  },
  {
   "cell_type": "code",
   "execution_count": 188,
   "metadata": {},
   "outputs": [
    {
     "data": {
      "text/plain": [
       "age    0\n",
       "sex    0\n",
       "bmi    0\n",
       "bp     0\n",
       "dtype: int64"
      ]
     },
     "execution_count": 188,
     "metadata": {},
     "output_type": "execute_result"
    }
   ],
   "source": [
    "pandas_df.isna().sum()"
   ]
  },
  {
   "cell_type": "code",
   "execution_count": 184,
   "metadata": {},
   "outputs": [
    {
     "name": "stdout",
     "output_type": "stream",
     "text": [
      "+-----------+-------+-------------+-------------+-------+---+------------------------+---+-------+\n",
      "|Pregnancies|Glucose|BloodPressure|SkinThickness|Insulin|BMI|DiabetesPedigreeFunction|Age|Outcome|\n",
      "+-----------+-------+-------------+-------------+-------+---+------------------------+---+-------+\n",
      "|          0|      0|            0|            0|      0|  0|                       0|  0|      0|\n",
      "+-----------+-------+-------------+-------------+-------+---+------------------------+---+-------+\n",
      "\n"
     ]
    }
   ],
   "source": [
    "from pyspark.sql.functions import col,isnan, when, count\n",
    "spark_df.select([count(when(isnan(c) | col(c).isNull(), c)).alias(c) for c in spark_df.columns]).show()"
   ]
  },
  {
   "cell_type": "markdown",
   "metadata": {},
   "source": [
    "## where - filter"
   ]
  },
  {
   "cell_type": "code",
   "execution_count": 200,
   "metadata": {},
   "outputs": [
    {
     "data": {
      "text/html": [
       "<div>\n",
       "<style scoped>\n",
       "    .dataframe tbody tr th:only-of-type {\n",
       "        vertical-align: middle;\n",
       "    }\n",
       "\n",
       "    .dataframe tbody tr th {\n",
       "        vertical-align: top;\n",
       "    }\n",
       "\n",
       "    .dataframe thead th {\n",
       "        text-align: right;\n",
       "    }\n",
       "</style>\n",
       "<table border=\"1\" class=\"dataframe\">\n",
       "  <thead>\n",
       "    <tr style=\"text-align: right;\">\n",
       "      <th></th>\n",
       "      <th>age</th>\n",
       "      <th>sex</th>\n",
       "      <th>bmi</th>\n",
       "      <th>bp</th>\n",
       "    </tr>\n",
       "  </thead>\n",
       "  <tbody>\n",
       "    <tr>\n",
       "      <th>204</th>\n",
       "      <td>0.110727</td>\n",
       "      <td>0.05068</td>\n",
       "      <td>0.006728</td>\n",
       "      <td>0.028758</td>\n",
       "    </tr>\n",
       "    <tr>\n",
       "      <th>402</th>\n",
       "      <td>0.110727</td>\n",
       "      <td>0.05068</td>\n",
       "      <td>-0.033151</td>\n",
       "      <td>-0.022885</td>\n",
       "    </tr>\n",
       "  </tbody>\n",
       "</table>\n",
       "</div>"
      ],
      "text/plain": [
       "          age      sex       bmi        bp\n",
       "204  0.110727  0.05068  0.006728  0.028758\n",
       "402  0.110727  0.05068 -0.033151 -0.022885"
      ]
     },
     "execution_count": 200,
     "metadata": {},
     "output_type": "execute_result"
    }
   ],
   "source": [
    "pandas_df[pandas_df.age>0.1]\n",
    "# or\n",
    "# pandas_df.where(pandas_df.age>0.1).dropna()"
   ]
  },
  {
   "cell_type": "code",
   "execution_count": 209,
   "metadata": {},
   "outputs": [
    {
     "name": "stdout",
     "output_type": "stream",
     "text": [
      "+-----------+-------+-------------+-------------+-------+----+------------------------+---+-------+\n",
      "|Pregnancies|Glucose|BloodPressure|SkinThickness|Insulin| BMI|DiabetesPedigreeFunction|Age|Outcome|\n",
      "+-----------+-------+-------------+-------------+-------+----+------------------------+---+-------+\n",
      "|          6|    148|           72|           35|      0|33.6|                   0.627| 50|      1|\n",
      "|          2|    197|           70|           45|    543|30.5|                   0.158| 53|      1|\n",
      "|          8|    125|           96|            0|      0| 0.0|                   0.232| 54|      1|\n",
      "|         10|    139|           80|            0|      0|27.1|                   1.441| 57|      0|\n",
      "|          1|    189|           60|           23|    846|30.1|                   0.398| 59|      1|\n",
      "|          5|    166|           72|           19|    175|25.8|                   0.587| 51|      1|\n",
      "|          8|     99|           84|            0|      0|35.4|                   0.388| 50|      0|\n",
      "|          7|    196|           90|            0|      0|39.8|                   0.451| 41|      1|\n",
      "|         11|    143|           94|           33|    146|36.6|                   0.254| 51|      1|\n",
      "|         10|    125|           70|           26|    115|31.1|                   0.205| 41|      1|\n",
      "|          7|    147|           76|            0|      0|39.4|                   0.257| 43|      1|\n",
      "|         13|    145|           82|           19|    110|22.2|                   0.245| 57|      0|\n",
      "|          5|    109|           75|           26|      0|36.0|                   0.546| 60|      0|\n",
      "|         10|    122|           78|           31|      0|27.6|                   0.512| 45|      0|\n",
      "|          9|    102|           76|           37|      0|32.9|                   0.665| 46|      1|\n",
      "|          4|    111|           72|           47|    207|37.1|                    1.39| 56|      1|\n",
      "|          7|    106|           92|           18|      0|22.7|                   0.235| 48|      0|\n",
      "|          9|    171|          110|           24|    240|45.4|                   0.721| 54|      1|\n",
      "|          8|    176|           90|           34|    300|33.7|                   0.467| 58|      1|\n",
      "|          7|    150|           66|           42|    342|34.7|                   0.718| 42|      0|\n",
      "+-----------+-------+-------------+-------------+-------+----+------------------------+---+-------+\n",
      "only showing top 20 rows\n",
      "\n"
     ]
    }
   ],
   "source": [
    "spark_df.filter(spark_df.Age >40).show()"
   ]
  },
  {
   "cell_type": "markdown",
   "metadata": {},
   "source": [
    "## value_counts - groupby().count().show()"
   ]
  },
  {
   "cell_type": "code",
   "execution_count": 211,
   "metadata": {},
   "outputs": [
    {
     "data": {
      "text/plain": [
       "-0.044642    235\n",
       " 0.050680    207\n",
       "Name: sex, dtype: int64"
      ]
     },
     "execution_count": 211,
     "metadata": {},
     "output_type": "execute_result"
    }
   ],
   "source": [
    "pandas_df.sex.value_counts()\n",
    "# or\n",
    "# pandas_df.groupby('sex').size()"
   ]
  },
  {
   "cell_type": "code",
   "execution_count": 210,
   "metadata": {},
   "outputs": [
    {
     "name": "stdout",
     "output_type": "stream",
     "text": [
      "+-------+-----+\n",
      "|Outcome|count|\n",
      "+-------+-----+\n",
      "|      1|  268|\n",
      "|      0|  500|\n",
      "+-------+-----+\n",
      "\n"
     ]
    }
   ],
   "source": [
    "spark_df.groupby(\"Outcome\").count().show()"
   ]
  },
  {
   "cell_type": "markdown",
   "metadata": {},
   "source": [
    "## groupby().agg()"
   ]
  },
  {
   "cell_type": "code",
   "execution_count": 217,
   "metadata": {},
   "outputs": [
    {
     "data": {
      "text/html": [
       "<div>\n",
       "<style scoped>\n",
       "    .dataframe tbody tr th:only-of-type {\n",
       "        vertical-align: middle;\n",
       "    }\n",
       "\n",
       "    .dataframe tbody tr th {\n",
       "        vertical-align: top;\n",
       "    }\n",
       "\n",
       "    .dataframe thead th {\n",
       "        text-align: right;\n",
       "    }\n",
       "</style>\n",
       "<table border=\"1\" class=\"dataframe\">\n",
       "  <thead>\n",
       "    <tr style=\"text-align: right;\">\n",
       "      <th></th>\n",
       "      <th>bmi</th>\n",
       "    </tr>\n",
       "    <tr>\n",
       "      <th>sex</th>\n",
       "      <th></th>\n",
       "    </tr>\n",
       "  </thead>\n",
       "  <tbody>\n",
       "    <tr>\n",
       "      <th>-0.044642</th>\n",
       "      <td>-0.003936</td>\n",
       "    </tr>\n",
       "    <tr>\n",
       "      <th>0.050680</th>\n",
       "      <td>0.004468</td>\n",
       "    </tr>\n",
       "  </tbody>\n",
       "</table>\n",
       "</div>"
      ],
      "text/plain": [
       "                bmi\n",
       "sex                \n",
       "-0.044642 -0.003936\n",
       " 0.050680  0.004468"
      ]
     },
     "execution_count": 217,
     "metadata": {},
     "output_type": "execute_result"
    }
   ],
   "source": [
    "pandas_df.groupby(\"sex\").agg({\"bmi\": \"mean\"})\n",
    "\n",
    "# or\n",
    "# pandas_df.groupby(\"sex\")[\"bmi\"].mean()"
   ]
  },
  {
   "cell_type": "code",
   "execution_count": 212,
   "metadata": {},
   "outputs": [
    {
     "name": "stdout",
     "output_type": "stream",
     "text": [
      "+-------+-----------------+\n",
      "|Outcome|         avg(BMI)|\n",
      "+-------+-----------------+\n",
      "|      1|35.14253731343278|\n",
      "|      0|30.30419999999996|\n",
      "+-------+-----------------+\n",
      "\n"
     ]
    }
   ],
   "source": [
    "spark_df.groupby(\"Outcome\").agg({\"BMI\": \"mean\"}).show()"
   ]
  },
  {
   "cell_type": "markdown",
   "metadata": {},
   "source": [
    "## Add new column"
   ]
  },
  {
   "cell_type": "code",
   "execution_count": 228,
   "metadata": {},
   "outputs": [
    {
     "data": {
      "text/html": [
       "<div>\n",
       "<style scoped>\n",
       "    .dataframe tbody tr th:only-of-type {\n",
       "        vertical-align: middle;\n",
       "    }\n",
       "\n",
       "    .dataframe tbody tr th {\n",
       "        vertical-align: top;\n",
       "    }\n",
       "\n",
       "    .dataframe thead th {\n",
       "        text-align: right;\n",
       "    }\n",
       "</style>\n",
       "<table border=\"1\" class=\"dataframe\">\n",
       "  <thead>\n",
       "    <tr style=\"text-align: right;\">\n",
       "      <th></th>\n",
       "      <th>age</th>\n",
       "      <th>sex</th>\n",
       "      <th>bmi</th>\n",
       "      <th>bp</th>\n",
       "      <th>yeni_degisken</th>\n",
       "    </tr>\n",
       "  </thead>\n",
       "  <tbody>\n",
       "    <tr>\n",
       "      <th>0</th>\n",
       "      <td>0.038076</td>\n",
       "      <td>0.050680</td>\n",
       "      <td>0.061696</td>\n",
       "      <td>0.021872</td>\n",
       "      <td>38.075906</td>\n",
       "    </tr>\n",
       "    <tr>\n",
       "      <th>1</th>\n",
       "      <td>-0.001882</td>\n",
       "      <td>-0.044642</td>\n",
       "      <td>-0.051474</td>\n",
       "      <td>-0.026328</td>\n",
       "      <td>-1.882017</td>\n",
       "    </tr>\n",
       "    <tr>\n",
       "      <th>2</th>\n",
       "      <td>0.085299</td>\n",
       "      <td>0.050680</td>\n",
       "      <td>0.044451</td>\n",
       "      <td>-0.005671</td>\n",
       "      <td>85.298906</td>\n",
       "    </tr>\n",
       "    <tr>\n",
       "      <th>3</th>\n",
       "      <td>-0.089063</td>\n",
       "      <td>-0.044642</td>\n",
       "      <td>-0.011595</td>\n",
       "      <td>-0.036656</td>\n",
       "      <td>-89.062939</td>\n",
       "    </tr>\n",
       "    <tr>\n",
       "      <th>4</th>\n",
       "      <td>0.005383</td>\n",
       "      <td>-0.044642</td>\n",
       "      <td>-0.036385</td>\n",
       "      <td>0.021872</td>\n",
       "      <td>5.383060</td>\n",
       "    </tr>\n",
       "  </tbody>\n",
       "</table>\n",
       "</div>"
      ],
      "text/plain": [
       "        age       sex       bmi        bp  yeni_degisken\n",
       "0  0.038076  0.050680  0.061696  0.021872      38.075906\n",
       "1 -0.001882 -0.044642 -0.051474 -0.026328      -1.882017\n",
       "2  0.085299  0.050680  0.044451 -0.005671      85.298906\n",
       "3 -0.089063 -0.044642 -0.011595 -0.036656     -89.062939\n",
       "4  0.005383 -0.044642 -0.036385  0.021872       5.383060"
      ]
     },
     "execution_count": 228,
     "metadata": {},
     "output_type": "execute_result"
    }
   ],
   "source": [
    "pandas_df['yeni_degisken']=pandas_df.age*1000\n",
    "pandas_df.head(5)"
   ]
  },
  {
   "cell_type": "code",
   "execution_count": 221,
   "metadata": {},
   "outputs": [
    {
     "name": "stdout",
     "output_type": "stream",
     "text": [
      "+-----------+-------+-------------+-------------+-------+----+------------------------+---+-------+-------------+\n",
      "|Pregnancies|Glucose|BloodPressure|SkinThickness|Insulin| BMI|DiabetesPedigreeFunction|Age|Outcome|yeni_degisken|\n",
      "+-----------+-------+-------------+-------------+-------+----+------------------------+---+-------+-------------+\n",
      "|          6|    148|           72|           35|      0|33.6|                   0.627| 50|      1|         16.8|\n",
      "|          1|     85|           66|           29|      0|26.6|                   0.351| 31|      0|         13.3|\n",
      "|          8|    183|           64|            0|      0|23.3|                   0.672| 32|      1|        11.65|\n",
      "|          1|     89|           66|           23|     94|28.1|                   0.167| 21|      0|        14.05|\n",
      "|          0|    137|           40|           35|    168|43.1|                   2.288| 33|      1|        21.55|\n",
      "+-----------+-------+-------------+-------------+-------+----+------------------------+---+-------+-------------+\n",
      "only showing top 5 rows\n",
      "\n"
     ]
    }
   ],
   "source": [
    "spark_df.withColumn(\"yeni_degisken\", spark_df.BMI / 2).show(5)"
   ]
  },
  {
   "cell_type": "markdown",
   "metadata": {},
   "source": [
    "## rename - withColumnRenamed"
   ]
  },
  {
   "cell_type": "code",
   "execution_count": 245,
   "metadata": {},
   "outputs": [
    {
     "data": {
      "text/html": [
       "<div>\n",
       "<style scoped>\n",
       "    .dataframe tbody tr th:only-of-type {\n",
       "        vertical-align: middle;\n",
       "    }\n",
       "\n",
       "    .dataframe tbody tr th {\n",
       "        vertical-align: top;\n",
       "    }\n",
       "\n",
       "    .dataframe thead th {\n",
       "        text-align: right;\n",
       "    }\n",
       "</style>\n",
       "<table border=\"1\" class=\"dataframe\">\n",
       "  <thead>\n",
       "    <tr style=\"text-align: right;\">\n",
       "      <th></th>\n",
       "      <th>age</th>\n",
       "      <th>sex</th>\n",
       "      <th>bmi</th>\n",
       "      <th>bp</th>\n",
       "      <th>new_variable</th>\n",
       "    </tr>\n",
       "  </thead>\n",
       "  <tbody>\n",
       "    <tr>\n",
       "      <th>0</th>\n",
       "      <td>0.038076</td>\n",
       "      <td>0.050680</td>\n",
       "      <td>0.061696</td>\n",
       "      <td>0.021872</td>\n",
       "      <td>38.075906</td>\n",
       "    </tr>\n",
       "    <tr>\n",
       "      <th>1</th>\n",
       "      <td>-0.001882</td>\n",
       "      <td>-0.044642</td>\n",
       "      <td>-0.051474</td>\n",
       "      <td>-0.026328</td>\n",
       "      <td>-1.882017</td>\n",
       "    </tr>\n",
       "    <tr>\n",
       "      <th>2</th>\n",
       "      <td>0.085299</td>\n",
       "      <td>0.050680</td>\n",
       "      <td>0.044451</td>\n",
       "      <td>-0.005671</td>\n",
       "      <td>85.298906</td>\n",
       "    </tr>\n",
       "    <tr>\n",
       "      <th>3</th>\n",
       "      <td>-0.089063</td>\n",
       "      <td>-0.044642</td>\n",
       "      <td>-0.011595</td>\n",
       "      <td>-0.036656</td>\n",
       "      <td>-89.062939</td>\n",
       "    </tr>\n",
       "    <tr>\n",
       "      <th>4</th>\n",
       "      <td>0.005383</td>\n",
       "      <td>-0.044642</td>\n",
       "      <td>-0.036385</td>\n",
       "      <td>0.021872</td>\n",
       "      <td>5.383060</td>\n",
       "    </tr>\n",
       "  </tbody>\n",
       "</table>\n",
       "</div>"
      ],
      "text/plain": [
       "        age       sex       bmi        bp  new_variable\n",
       "0  0.038076  0.050680  0.061696  0.021872     38.075906\n",
       "1 -0.001882 -0.044642 -0.051474 -0.026328     -1.882017\n",
       "2  0.085299  0.050680  0.044451 -0.005671     85.298906\n",
       "3 -0.089063 -0.044642 -0.011595 -0.036656    -89.062939\n",
       "4  0.005383 -0.044642 -0.036385  0.021872      5.383060"
      ]
     },
     "execution_count": 245,
     "metadata": {},
     "output_type": "execute_result"
    }
   ],
   "source": [
    "pandas_df.rename(columns={\"yeni_degisken\":\"new_variable\"}).head()"
   ]
  },
  {
   "cell_type": "code",
   "execution_count": 239,
   "metadata": {},
   "outputs": [
    {
     "name": "stdout",
     "output_type": "stream",
     "text": [
      "+-----------+-------+-------------+-------------+-------+----+------------------------+---+----------------+\n",
      "|Pregnancies|Glucose|BloodPressure|SkinThickness|Insulin| BMI|DiabetesPedigreeFunction|Age|bagimli_degisken|\n",
      "+-----------+-------+-------------+-------------+-------+----+------------------------+---+----------------+\n",
      "|          6|    148|           72|           35|      0|33.6|                   0.627| 50|               1|\n",
      "|          1|     85|           66|           29|      0|26.6|                   0.351| 31|               0|\n",
      "|          8|    183|           64|            0|      0|23.3|                   0.672| 32|               1|\n",
      "|          1|     89|           66|           23|     94|28.1|                   0.167| 21|               0|\n",
      "|          0|    137|           40|           35|    168|43.1|                   2.288| 33|               1|\n",
      "+-----------+-------+-------------+-------------+-------+----+------------------------+---+----------------+\n",
      "only showing top 5 rows\n",
      "\n"
     ]
    }
   ],
   "source": [
    "spark_df.withColumnRenamed(\"Outcome\",\"bagimli_degisken\").show(5)"
   ]
  },
  {
   "cell_type": "markdown",
   "metadata": {},
   "source": [
    "## drop columns"
   ]
  },
  {
   "cell_type": "code",
   "execution_count": 252,
   "metadata": {},
   "outputs": [
    {
     "data": {
      "text/html": [
       "<div>\n",
       "<style scoped>\n",
       "    .dataframe tbody tr th:only-of-type {\n",
       "        vertical-align: middle;\n",
       "    }\n",
       "\n",
       "    .dataframe tbody tr th {\n",
       "        vertical-align: top;\n",
       "    }\n",
       "\n",
       "    .dataframe thead th {\n",
       "        text-align: right;\n",
       "    }\n",
       "</style>\n",
       "<table border=\"1\" class=\"dataframe\">\n",
       "  <thead>\n",
       "    <tr style=\"text-align: right;\">\n",
       "      <th></th>\n",
       "      <th>bmi</th>\n",
       "      <th>bp</th>\n",
       "      <th>yeni_degisken</th>\n",
       "    </tr>\n",
       "  </thead>\n",
       "  <tbody>\n",
       "    <tr>\n",
       "      <th>0</th>\n",
       "      <td>0.061696</td>\n",
       "      <td>0.021872</td>\n",
       "      <td>38.075906</td>\n",
       "    </tr>\n",
       "    <tr>\n",
       "      <th>1</th>\n",
       "      <td>-0.051474</td>\n",
       "      <td>-0.026328</td>\n",
       "      <td>-1.882017</td>\n",
       "    </tr>\n",
       "    <tr>\n",
       "      <th>2</th>\n",
       "      <td>0.044451</td>\n",
       "      <td>-0.005671</td>\n",
       "      <td>85.298906</td>\n",
       "    </tr>\n",
       "    <tr>\n",
       "      <th>3</th>\n",
       "      <td>-0.011595</td>\n",
       "      <td>-0.036656</td>\n",
       "      <td>-89.062939</td>\n",
       "    </tr>\n",
       "    <tr>\n",
       "      <th>4</th>\n",
       "      <td>-0.036385</td>\n",
       "      <td>0.021872</td>\n",
       "      <td>5.383060</td>\n",
       "    </tr>\n",
       "    <tr>\n",
       "      <th>...</th>\n",
       "      <td>...</td>\n",
       "      <td>...</td>\n",
       "      <td>...</td>\n",
       "    </tr>\n",
       "    <tr>\n",
       "      <th>437</th>\n",
       "      <td>0.019662</td>\n",
       "      <td>0.059744</td>\n",
       "      <td>41.708445</td>\n",
       "    </tr>\n",
       "    <tr>\n",
       "      <th>438</th>\n",
       "      <td>-0.015906</td>\n",
       "      <td>-0.067642</td>\n",
       "      <td>-5.514555</td>\n",
       "    </tr>\n",
       "    <tr>\n",
       "      <th>439</th>\n",
       "      <td>-0.015906</td>\n",
       "      <td>0.017282</td>\n",
       "      <td>41.708445</td>\n",
       "    </tr>\n",
       "    <tr>\n",
       "      <th>440</th>\n",
       "      <td>0.039062</td>\n",
       "      <td>0.001215</td>\n",
       "      <td>-45.472478</td>\n",
       "    </tr>\n",
       "    <tr>\n",
       "      <th>441</th>\n",
       "      <td>-0.073030</td>\n",
       "      <td>-0.081414</td>\n",
       "      <td>-45.472478</td>\n",
       "    </tr>\n",
       "  </tbody>\n",
       "</table>\n",
       "<p>442 rows × 3 columns</p>\n",
       "</div>"
      ],
      "text/plain": [
       "          bmi        bp  yeni_degisken\n",
       "0    0.061696  0.021872      38.075906\n",
       "1   -0.051474 -0.026328      -1.882017\n",
       "2    0.044451 -0.005671      85.298906\n",
       "3   -0.011595 -0.036656     -89.062939\n",
       "4   -0.036385  0.021872       5.383060\n",
       "..        ...       ...            ...\n",
       "437  0.019662  0.059744      41.708445\n",
       "438 -0.015906 -0.067642      -5.514555\n",
       "439 -0.015906  0.017282      41.708445\n",
       "440  0.039062  0.001215     -45.472478\n",
       "441 -0.073030 -0.081414     -45.472478\n",
       "\n",
       "[442 rows x 3 columns]"
      ]
     },
     "execution_count": 252,
     "metadata": {},
     "output_type": "execute_result"
    }
   ],
   "source": [
    "pandas_df.drop(columns=['age','sex'])"
   ]
  },
  {
   "cell_type": "code",
   "execution_count": 253,
   "metadata": {},
   "outputs": [
    {
     "name": "stdout",
     "output_type": "stream",
     "text": [
      "+-------------+-------------+-------+----+------------------------+---+-------+\n",
      "|BloodPressure|SkinThickness|Insulin| BMI|DiabetesPedigreeFunction|Age|Outcome|\n",
      "+-------------+-------------+-------+----+------------------------+---+-------+\n",
      "|           72|           35|      0|33.6|                   0.627| 50|      1|\n",
      "|           66|           29|      0|26.6|                   0.351| 31|      0|\n",
      "|           64|            0|      0|23.3|                   0.672| 32|      1|\n",
      "|           66|           23|     94|28.1|                   0.167| 21|      0|\n",
      "|           40|           35|    168|43.1|                   2.288| 33|      1|\n",
      "+-------------+-------------+-------+----+------------------------+---+-------+\n",
      "only showing top 5 rows\n",
      "\n"
     ]
    }
   ],
   "source": [
    "spark_df.drop(\"Pregnancies\",\"Glucose\").show(5)"
   ]
  },
  {
   "cell_type": "markdown",
   "metadata": {},
   "source": [
    "## columns"
   ]
  },
  {
   "cell_type": "code",
   "execution_count": 254,
   "metadata": {},
   "outputs": [
    {
     "data": {
      "text/plain": [
       "Index(['age', 'sex', 'bmi', 'bp', 'yeni_degisken'], dtype='object')"
      ]
     },
     "execution_count": 254,
     "metadata": {},
     "output_type": "execute_result"
    }
   ],
   "source": [
    "pandas_df.columns"
   ]
  },
  {
   "cell_type": "code",
   "execution_count": 354,
   "metadata": {},
   "outputs": [
    {
     "data": {
      "text/plain": [
       "['Pregnancies',\n",
       " 'Glucose',\n",
       " 'BloodPressure',\n",
       " 'SkinThickness',\n",
       " 'Insulin',\n",
       " 'BMI',\n",
       " 'DiabetesPedigreeFunction',\n",
       " 'Age',\n",
       " 'Outcome']"
      ]
     },
     "execution_count": 354,
     "metadata": {},
     "output_type": "execute_result"
    }
   ],
   "source": [
    "spark_df.columns"
   ]
  },
  {
   "cell_type": "markdown",
   "metadata": {},
   "source": [
    "## columns rename - toDF"
   ]
  },
  {
   "cell_type": "code",
   "execution_count": 353,
   "metadata": {},
   "outputs": [
    {
     "data": {
      "text/plain": [
       "Index(['Age', 'Sex', 'Bmi', 'Bp', 'Yeni_Degisken'], dtype='object')"
      ]
     },
     "execution_count": 353,
     "metadata": {},
     "output_type": "execute_result"
    }
   ],
   "source": [
    "pandas_df.columns= [col.title() for col in pandas_df.columns]\n",
    "pandas_df.columns"
   ]
  },
  {
   "cell_type": "code",
   "execution_count": 363,
   "metadata": {},
   "outputs": [
    {
     "data": {
      "text/plain": [
       "['pregnancies',\n",
       " 'glucose',\n",
       " 'bloodpressure',\n",
       " 'skinthickness',\n",
       " 'insulin',\n",
       " 'bmi',\n",
       " 'diabetespedigreefunction',\n",
       " 'age',\n",
       " 'outcome']"
      ]
     },
     "execution_count": 363,
     "metadata": {},
     "output_type": "execute_result"
    }
   ],
   "source": [
    "spark_df = spark_df.toDF(*[col.lower() for col in spark_df.columns])\n",
    "spark_df.columns"
   ]
  },
  {
   "cell_type": "markdown",
   "metadata": {},
   "source": [
    "## where,select - loc"
   ]
  },
  {
   "cell_type": "code",
   "execution_count": 378,
   "metadata": {},
   "outputs": [
    {
     "data": {
      "text/plain": [
       "0      0.061696\n",
       "68    -0.029918\n",
       "109   -0.009439\n",
       "209   -0.018062\n",
       "271    0.008883\n",
       "279   -0.024529\n",
       "299   -0.013751\n",
       "347   -0.029918\n",
       "359    0.005650\n",
       "421    0.016428\n",
       "Name: Bmi, dtype: float64"
      ]
     },
     "execution_count": 378,
     "metadata": {},
     "output_type": "execute_result"
    }
   ],
   "source": [
    "pandas_df.loc[pandas_df[pandas_df.Age==0.0380759064334241].index,'Bmi']"
   ]
  },
  {
   "cell_type": "code",
   "execution_count": 381,
   "metadata": {},
   "outputs": [
    {
     "name": "stdout",
     "output_type": "stream",
     "text": [
      "+-------+----+\n",
      "|insulin| bmi|\n",
      "+-------+----+\n",
      "|    168|43.1|\n",
      "|    168|29.7|\n",
      "|    168|25.6|\n",
      "|    168|33.6|\n",
      "+-------+----+\n",
      "\n"
     ]
    }
   ],
   "source": [
    "spark_df.where(spark_df.insulin == 168).select(\"insulin\",\"bmi\").show()"
   ]
  },
  {
   "cell_type": "markdown",
   "metadata": {},
   "source": [
    "## Change Column Type (astype - cast)"
   ]
  },
  {
   "cell_type": "code",
   "execution_count": 31,
   "metadata": {},
   "outputs": [
    {
     "data": {
      "text/plain": [
       "age    float64\n",
       "sex    float64\n",
       "bmi    float64\n",
       "bp     float64\n",
       "dtype: object"
      ]
     },
     "execution_count": 31,
     "metadata": {},
     "output_type": "execute_result"
    }
   ],
   "source": [
    "pandas_df.dtypes"
   ]
  },
  {
   "cell_type": "code",
   "execution_count": 32,
   "metadata": {},
   "outputs": [
    {
     "data": {
      "text/plain": [
       "age      int32\n",
       "sex     string\n",
       "bmi    float64\n",
       "bp     float64\n",
       "dtype: object"
      ]
     },
     "execution_count": 32,
     "metadata": {},
     "output_type": "execute_result"
    }
   ],
   "source": [
    "pandas_df.astype({'age': 'int32', 'sex':'string'}).dtypes"
   ]
  },
  {
   "cell_type": "code",
   "execution_count": 28,
   "metadata": {},
   "outputs": [
    {
     "data": {
      "text/plain": [
       "[('Pregnancies', 'int'),\n",
       " ('Glucose', 'int'),\n",
       " ('BloodPressure', 'int'),\n",
       " ('SkinThickness', 'int'),\n",
       " ('Insulin', 'int'),\n",
       " ('BMI', 'double'),\n",
       " ('DiabetesPedigreeFunction', 'double'),\n",
       " ('Age', 'int'),\n",
       " ('Outcome', 'int')]"
      ]
     },
     "execution_count": 28,
     "metadata": {},
     "output_type": "execute_result"
    }
   ],
   "source": [
    "spark_df.dtypes"
   ]
  },
  {
   "cell_type": "code",
   "execution_count": 29,
   "metadata": {},
   "outputs": [
    {
     "data": {
      "text/plain": [
       "[('Pregnancies', 'int'),\n",
       " ('Glucose', 'int'),\n",
       " ('BloodPressure', 'int'),\n",
       " ('SkinThickness', 'int'),\n",
       " ('Insulin', 'int'),\n",
       " ('BMI', 'double'),\n",
       " ('DiabetesPedigreeFunction', 'string'),\n",
       " ('Age', 'double'),\n",
       " ('Outcome', 'boolean')]"
      ]
     },
     "execution_count": 29,
     "metadata": {},
     "output_type": "execute_result"
    }
   ],
   "source": [
    "spark_df2 = spark_df.withColumn(\"DiabetesPedigreeFunction\",spark_df['DiabetesPedigreeFunction'].cast(\"string\")) \\\n",
    "                    .withColumn(\"Age\",spark_df['Age'].cast(\"double\")) \\\n",
    "                    .withColumn(\"Outcome\",spark_df[\"Outcome\"].cast('boolean'))\n",
    "spark_df2.dtypes"
   ]
  },
  {
   "cell_type": "markdown",
   "metadata": {},
   "source": [
    "## Replace Null values with median"
   ]
  },
  {
   "cell_type": "code",
   "execution_count": 105,
   "metadata": {},
   "outputs": [
    {
     "data": {
      "text/html": [
       "<div>\n",
       "<style scoped>\n",
       "    .dataframe tbody tr th:only-of-type {\n",
       "        vertical-align: middle;\n",
       "    }\n",
       "\n",
       "    .dataframe tbody tr th {\n",
       "        vertical-align: top;\n",
       "    }\n",
       "\n",
       "    .dataframe thead th {\n",
       "        text-align: right;\n",
       "    }\n",
       "</style>\n",
       "<table border=\"1\" class=\"dataframe\">\n",
       "  <thead>\n",
       "    <tr style=\"text-align: right;\">\n",
       "      <th></th>\n",
       "      <th>Id</th>\n",
       "      <th>Name</th>\n",
       "      <th>Height</th>\n",
       "      <th>Age</th>\n",
       "      <th>Gender</th>\n",
       "      <th>Profession</th>\n",
       "    </tr>\n",
       "  </thead>\n",
       "  <tbody>\n",
       "    <tr>\n",
       "      <th>0</th>\n",
       "      <td>1</td>\n",
       "      <td>John</td>\n",
       "      <td>1.79</td>\n",
       "      <td>28</td>\n",
       "      <td>M</td>\n",
       "      <td>Doctor</td>\n",
       "    </tr>\n",
       "    <tr>\n",
       "      <th>1</th>\n",
       "      <td>2</td>\n",
       "      <td>Steve</td>\n",
       "      <td>1.78</td>\n",
       "      <td>45</td>\n",
       "      <td>M</td>\n",
       "      <td>None</td>\n",
       "    </tr>\n",
       "    <tr>\n",
       "      <th>2</th>\n",
       "      <td>3</td>\n",
       "      <td>Emma</td>\n",
       "      <td>1.75</td>\n",
       "      <td>None</td>\n",
       "      <td>None</td>\n",
       "      <td>None</td>\n",
       "    </tr>\n",
       "    <tr>\n",
       "      <th>3</th>\n",
       "      <td>4</td>\n",
       "      <td>Ashley</td>\n",
       "      <td>1.6</td>\n",
       "      <td>33</td>\n",
       "      <td>F</td>\n",
       "      <td>Analyst</td>\n",
       "    </tr>\n",
       "    <tr>\n",
       "      <th>4</th>\n",
       "      <td>5</td>\n",
       "      <td>Olivia</td>\n",
       "      <td>1.8</td>\n",
       "      <td>54</td>\n",
       "      <td>F</td>\n",
       "      <td>Teacher</td>\n",
       "    </tr>\n",
       "    <tr>\n",
       "      <th>5</th>\n",
       "      <td>6</td>\n",
       "      <td>Hannah</td>\n",
       "      <td>1.82</td>\n",
       "      <td>None</td>\n",
       "      <td>F</td>\n",
       "      <td>None</td>\n",
       "    </tr>\n",
       "    <tr>\n",
       "      <th>6</th>\n",
       "      <td>7</td>\n",
       "      <td>William</td>\n",
       "      <td>None</td>\n",
       "      <td>42</td>\n",
       "      <td>M</td>\n",
       "      <td>Engineer</td>\n",
       "    </tr>\n",
       "    <tr>\n",
       "      <th>7</th>\n",
       "      <td>None</td>\n",
       "      <td>None</td>\n",
       "      <td>None</td>\n",
       "      <td>None</td>\n",
       "      <td>None</td>\n",
       "      <td>None</td>\n",
       "    </tr>\n",
       "    <tr>\n",
       "      <th>8</th>\n",
       "      <td>8</td>\n",
       "      <td>Ethan</td>\n",
       "      <td>1.55</td>\n",
       "      <td>38</td>\n",
       "      <td>M</td>\n",
       "      <td>Doctor</td>\n",
       "    </tr>\n",
       "    <tr>\n",
       "      <th>9</th>\n",
       "      <td>9</td>\n",
       "      <td>Hannah</td>\n",
       "      <td>1.65</td>\n",
       "      <td>None</td>\n",
       "      <td>F</td>\n",
       "      <td>Doctor</td>\n",
       "    </tr>\n",
       "    <tr>\n",
       "      <th>10</th>\n",
       "      <td>10</td>\n",
       "      <td>Xavier</td>\n",
       "      <td>1.64</td>\n",
       "      <td>43</td>\n",
       "      <td>None</td>\n",
       "      <td>Doctor</td>\n",
       "    </tr>\n",
       "  </tbody>\n",
       "</table>\n",
       "</div>"
      ],
      "text/plain": [
       "      Id     Name Height   Age Gender Profession\n",
       "0      1     John   1.79    28      M     Doctor\n",
       "1      2    Steve   1.78    45      M       None\n",
       "2      3     Emma   1.75  None   None       None\n",
       "3      4   Ashley    1.6    33      F    Analyst\n",
       "4      5   Olivia    1.8    54      F    Teacher\n",
       "5      6   Hannah   1.82  None      F       None\n",
       "6      7  William   None    42      M   Engineer\n",
       "7   None     None   None  None   None       None\n",
       "8      8    Ethan   1.55    38      M     Doctor\n",
       "9      9   Hannah   1.65  None      F     Doctor\n",
       "10    10   Xavier   1.64    43   None     Doctor"
      ]
     },
     "execution_count": 105,
     "metadata": {},
     "output_type": "execute_result"
    }
   ],
   "source": [
    "data = np.array([(1, 'John', 1.79, 28,'M', 'Doctor'),\n",
    "                (2, 'Steve', 1.78, 45,'M', None),\n",
    "                (3, 'Emma', 1.75, None, None, None),\n",
    "                (4, 'Ashley',1.6, 33,'F', 'Analyst'),\n",
    "                (5, 'Olivia', 1.8, 54,'F', 'Teacher'),\n",
    "                (6, 'Hannah', 1.82, None, 'F', None),\n",
    "                (7, 'William',None, 42,'M', 'Engineer'),\n",
    "                (None,None,None,None,None,None),\n",
    "                (8,'Ethan',1.55,38,'M','Doctor'),\n",
    "                (9,'Hannah',1.65,None,'F','Doctor'),\n",
    "               (10,'Xavier',1.64,43,None,'Doctor'),\n",
    "               ('Id', 'Name', 'Height', 'Age', 'Gender', 'Profession')])\n",
    "\n",
    "pdf = pd.DataFrame(data[:-1], columns=data[:][-1])\n",
    "pdf"
   ]
  },
  {
   "cell_type": "code",
   "execution_count": 108,
   "metadata": {},
   "outputs": [
    {
     "data": {
      "text/plain": [
       "Id            1\n",
       "Name          1\n",
       "Height        2\n",
       "Age           4\n",
       "Gender        3\n",
       "Profession    4\n",
       "dtype: int64"
      ]
     },
     "execution_count": 108,
     "metadata": {},
     "output_type": "execute_result"
    }
   ],
   "source": [
    "pdf.isna().sum()"
   ]
  },
  {
   "cell_type": "code",
   "execution_count": 110,
   "metadata": {},
   "outputs": [
    {
     "data": {
      "text/html": [
       "<div>\n",
       "<style scoped>\n",
       "    .dataframe tbody tr th:only-of-type {\n",
       "        vertical-align: middle;\n",
       "    }\n",
       "\n",
       "    .dataframe tbody tr th {\n",
       "        vertical-align: top;\n",
       "    }\n",
       "\n",
       "    .dataframe thead th {\n",
       "        text-align: right;\n",
       "    }\n",
       "</style>\n",
       "<table border=\"1\" class=\"dataframe\">\n",
       "  <thead>\n",
       "    <tr style=\"text-align: right;\">\n",
       "      <th></th>\n",
       "      <th>Id</th>\n",
       "      <th>Name</th>\n",
       "      <th>Height</th>\n",
       "      <th>Age</th>\n",
       "      <th>Gender</th>\n",
       "      <th>Profession</th>\n",
       "    </tr>\n",
       "  </thead>\n",
       "  <tbody>\n",
       "    <tr>\n",
       "      <th>0</th>\n",
       "      <td>1</td>\n",
       "      <td>John</td>\n",
       "      <td>1.79</td>\n",
       "      <td>28.0</td>\n",
       "      <td>M</td>\n",
       "      <td>Doctor</td>\n",
       "    </tr>\n",
       "    <tr>\n",
       "      <th>1</th>\n",
       "      <td>2</td>\n",
       "      <td>Steve</td>\n",
       "      <td>1.78</td>\n",
       "      <td>45.0</td>\n",
       "      <td>M</td>\n",
       "      <td>None</td>\n",
       "    </tr>\n",
       "    <tr>\n",
       "      <th>2</th>\n",
       "      <td>3</td>\n",
       "      <td>Emma</td>\n",
       "      <td>1.75</td>\n",
       "      <td>42.0</td>\n",
       "      <td>None</td>\n",
       "      <td>None</td>\n",
       "    </tr>\n",
       "    <tr>\n",
       "      <th>3</th>\n",
       "      <td>4</td>\n",
       "      <td>Ashley</td>\n",
       "      <td>1.60</td>\n",
       "      <td>33.0</td>\n",
       "      <td>F</td>\n",
       "      <td>Analyst</td>\n",
       "    </tr>\n",
       "    <tr>\n",
       "      <th>4</th>\n",
       "      <td>5</td>\n",
       "      <td>Olivia</td>\n",
       "      <td>1.80</td>\n",
       "      <td>54.0</td>\n",
       "      <td>F</td>\n",
       "      <td>Teacher</td>\n",
       "    </tr>\n",
       "    <tr>\n",
       "      <th>5</th>\n",
       "      <td>6</td>\n",
       "      <td>Hannah</td>\n",
       "      <td>1.82</td>\n",
       "      <td>42.0</td>\n",
       "      <td>F</td>\n",
       "      <td>None</td>\n",
       "    </tr>\n",
       "    <tr>\n",
       "      <th>6</th>\n",
       "      <td>7</td>\n",
       "      <td>William</td>\n",
       "      <td>1.75</td>\n",
       "      <td>42.0</td>\n",
       "      <td>M</td>\n",
       "      <td>Engineer</td>\n",
       "    </tr>\n",
       "    <tr>\n",
       "      <th>7</th>\n",
       "      <td>None</td>\n",
       "      <td>None</td>\n",
       "      <td>1.75</td>\n",
       "      <td>42.0</td>\n",
       "      <td>None</td>\n",
       "      <td>None</td>\n",
       "    </tr>\n",
       "    <tr>\n",
       "      <th>8</th>\n",
       "      <td>8</td>\n",
       "      <td>Ethan</td>\n",
       "      <td>1.55</td>\n",
       "      <td>38.0</td>\n",
       "      <td>M</td>\n",
       "      <td>Doctor</td>\n",
       "    </tr>\n",
       "    <tr>\n",
       "      <th>9</th>\n",
       "      <td>9</td>\n",
       "      <td>Hannah</td>\n",
       "      <td>1.65</td>\n",
       "      <td>42.0</td>\n",
       "      <td>F</td>\n",
       "      <td>Doctor</td>\n",
       "    </tr>\n",
       "    <tr>\n",
       "      <th>10</th>\n",
       "      <td>10</td>\n",
       "      <td>Xavier</td>\n",
       "      <td>1.64</td>\n",
       "      <td>43.0</td>\n",
       "      <td>None</td>\n",
       "      <td>Doctor</td>\n",
       "    </tr>\n",
       "  </tbody>\n",
       "</table>\n",
       "</div>"
      ],
      "text/plain": [
       "      Id     Name  Height   Age Gender Profession\n",
       "0      1     John    1.79  28.0      M     Doctor\n",
       "1      2    Steve    1.78  45.0      M       None\n",
       "2      3     Emma    1.75  42.0   None       None\n",
       "3      4   Ashley    1.60  33.0      F    Analyst\n",
       "4      5   Olivia    1.80  54.0      F    Teacher\n",
       "5      6   Hannah    1.82  42.0      F       None\n",
       "6      7  William    1.75  42.0      M   Engineer\n",
       "7   None     None    1.75  42.0   None       None\n",
       "8      8    Ethan    1.55  38.0      M     Doctor\n",
       "9      9   Hannah    1.65  42.0      F     Doctor\n",
       "10    10   Xavier    1.64  43.0   None     Doctor"
      ]
     },
     "execution_count": 110,
     "metadata": {},
     "output_type": "execute_result"
    }
   ],
   "source": [
    "pdf[['Height','Age']] = pdf[['Height','Age']].astype('float64').fillna(pdf[['Height','Age']].median())\n",
    "pdf"
   ]
  },
  {
   "cell_type": "code",
   "execution_count": 111,
   "metadata": {},
   "outputs": [
    {
     "data": {
      "text/plain": [
       "Id            1\n",
       "Name          1\n",
       "Height        0\n",
       "Age           0\n",
       "Gender        3\n",
       "Profession    4\n",
       "dtype: int64"
      ]
     },
     "execution_count": 111,
     "metadata": {},
     "output_type": "execute_result"
    }
   ],
   "source": [
    "pdf.isna().sum()"
   ]
  },
  {
   "cell_type": "code",
   "execution_count": 36,
   "metadata": {},
   "outputs": [
    {
     "name": "stdout",
     "output_type": "stream",
     "text": [
      "+----+-------+------+----+------+----------+\n",
      "|  Id|   Name|Height| Age|Gender|Profession|\n",
      "+----+-------+------+----+------+----------+\n",
      "|   1|   John|  1.79|  28|     M|    Doctor|\n",
      "|   2|  Steve|  1.78|  45|     M|      null|\n",
      "|   3|   Emma|  1.75|null|  null|      null|\n",
      "|   4| Ashley|   1.6|  33|     F|   Analyst|\n",
      "|   5| Olivia|   1.8|  54|     F|   Teacher|\n",
      "|   6| Hannah|  1.82|null|     F|      null|\n",
      "|   7|William|  null|  42|     M|  Engineer|\n",
      "|null|   null|  null|null|  null|      null|\n",
      "|   8|  Ethan|  1.55|  38|     M|    Doctor|\n",
      "|   9| Hannah|  1.65|null|     F|    Doctor|\n",
      "|  10| Xavier|  1.64|  43|  null|    Doctor|\n",
      "+----+-------+------+----+------+----------+\n",
      "\n"
     ]
    }
   ],
   "source": [
    "sdf = spark.createDataFrame([(1, 'John', 1.79, 28,'M', 'Doctor'),\n",
    "                        (2, 'Steve', 1.78, 45,'M', None),\n",
    "                        (3, 'Emma', 1.75, None, None, None),\n",
    "                        (4, 'Ashley',1.6, 33,'F', 'Analyst'),\n",
    "                        (5, 'Olivia', 1.8, 54,'F', 'Teacher'),\n",
    "                        (6, 'Hannah', 1.82, None, 'F', None),\n",
    "                        (7, 'William',None, 42,'M', 'Engineer'),\n",
    "                        (None,None,None,None,None,None),\n",
    "                        (8,'Ethan',1.55,38,'M','Doctor'),\n",
    "                        (9,'Hannah',1.65,None,'F','Doctor'),\n",
    "                       (10,'Xavier',1.64,43,None,'Doctor')]\n",
    "                       , ['Id', 'Name', 'Height', 'Age', 'Gender', 'Profession'])\n",
    "sdf.show()"
   ]
  },
  {
   "cell_type": "code",
   "execution_count": 37,
   "metadata": {},
   "outputs": [
    {
     "name": "stdout",
     "output_type": "stream",
     "text": [
      "+---+----+------+---+------+----------+\n",
      "| Id|Name|Height|Age|Gender|Profession|\n",
      "+---+----+------+---+------+----------+\n",
      "|  1|   1|     2|  4|     3|         4|\n",
      "+---+----+------+---+------+----------+\n",
      "\n"
     ]
    }
   ],
   "source": [
    "# check null values\n",
    "from pyspark.sql.functions import col,isnan, when, count\n",
    "sdf.select([count(when(isnan(c) | col(c).isNull(), c)).alias(c) for c in sdf.columns]).show()"
   ]
  },
  {
   "cell_type": "code",
   "execution_count": 43,
   "metadata": {},
   "outputs": [
    {
     "name": "stdout",
     "output_type": "stream",
     "text": [
      "+----+-------+------+----+------+----------+--------------+-----------+\n",
      "|  Id|   Name|Height| Age|Gender|Profession|Height_imputed|Age_imputed|\n",
      "+----+-------+------+----+------+----------+--------------+-----------+\n",
      "|   1|   John|  1.79|  28|     M|    Doctor|          1.79|         28|\n",
      "|   2|  Steve|  1.78|  45|     M|      null|          1.78|         45|\n",
      "|   3|   Emma|  1.75|null|  null|      null|          1.75|         42|\n",
      "|   4| Ashley|   1.6|  33|     F|   Analyst|           1.6|         33|\n",
      "|   5| Olivia|   1.8|  54|     F|   Teacher|           1.8|         54|\n",
      "|   6| Hannah|  1.82|null|     F|      null|          1.82|         42|\n",
      "|   7|William|  null|  42|     M|  Engineer|          1.75|         42|\n",
      "|null|   null|  null|null|  null|      null|          1.75|         42|\n",
      "|   8|  Ethan|  1.55|  38|     M|    Doctor|          1.55|         38|\n",
      "|   9| Hannah|  1.65|null|     F|    Doctor|          1.65|         42|\n",
      "|  10| Xavier|  1.64|  43|  null|    Doctor|          1.64|         43|\n",
      "+----+-------+------+----+------+----------+--------------+-----------+\n",
      "\n"
     ]
    }
   ],
   "source": [
    "# Column Name must be of type numeric\n",
    "\n",
    "from pyspark.ml.feature import Imputer\n",
    "\n",
    "imputer = Imputer(\n",
    "    inputCols=['Height','Age'], \n",
    "    outputCols=[\"{}_imputed\".format(c) for c in ['Height','Age']]\n",
    "    ).setStrategy(\"median\")\n",
    "\n",
    "# Add imputation cols at the end of the dataframe\n",
    "sdf = imputer.fit(sdf).transform(sdf)\n",
    "sdf.show()"
   ]
  },
  {
   "cell_type": "code",
   "execution_count": 42,
   "metadata": {},
   "outputs": [
    {
     "name": "stdout",
     "output_type": "stream",
     "text": [
      "+---+----+------+---+------+----------+--------------+-----------+\n",
      "| Id|Name|Height|Age|Gender|Profession|Height_imputed|Age_imputed|\n",
      "+---+----+------+---+------+----------+--------------+-----------+\n",
      "|  1|   1|     2|  4|     3|         4|             0|          0|\n",
      "+---+----+------+---+------+----------+--------------+-----------+\n",
      "\n"
     ]
    }
   ],
   "source": [
    "# check null values\n",
    "from pyspark.sql.functions import col,isnan, when, count\n",
    "sdf.select([count(when(isnan(c) | col(c).isNull(), c)).alias(c) for c in sdf.columns]).show()"
   ]
  },
  {
   "cell_type": "markdown",
   "metadata": {},
   "source": [
    "## Label Encoding & One Hot Encoding"
   ]
  },
  {
   "cell_type": "code",
   "execution_count": 152,
   "metadata": {},
   "outputs": [
    {
     "data": {
      "text/html": [
       "<div>\n",
       "<style scoped>\n",
       "    .dataframe tbody tr th:only-of-type {\n",
       "        vertical-align: middle;\n",
       "    }\n",
       "\n",
       "    .dataframe tbody tr th {\n",
       "        vertical-align: top;\n",
       "    }\n",
       "\n",
       "    .dataframe thead th {\n",
       "        text-align: right;\n",
       "    }\n",
       "</style>\n",
       "<table border=\"1\" class=\"dataframe\">\n",
       "  <thead>\n",
       "    <tr style=\"text-align: right;\">\n",
       "      <th></th>\n",
       "      <th>Id</th>\n",
       "      <th>Name</th>\n",
       "      <th>Height</th>\n",
       "      <th>Age</th>\n",
       "      <th>Gender</th>\n",
       "      <th>Profession</th>\n",
       "    </tr>\n",
       "  </thead>\n",
       "  <tbody>\n",
       "    <tr>\n",
       "      <th>0</th>\n",
       "      <td>1</td>\n",
       "      <td>John</td>\n",
       "      <td>1.79</td>\n",
       "      <td>28.0</td>\n",
       "      <td>M</td>\n",
       "      <td>Doctor</td>\n",
       "    </tr>\n",
       "    <tr>\n",
       "      <th>1</th>\n",
       "      <td>2</td>\n",
       "      <td>Steve</td>\n",
       "      <td>1.78</td>\n",
       "      <td>45.0</td>\n",
       "      <td>M</td>\n",
       "      <td>None</td>\n",
       "    </tr>\n",
       "    <tr>\n",
       "      <th>2</th>\n",
       "      <td>3</td>\n",
       "      <td>Emma</td>\n",
       "      <td>1.75</td>\n",
       "      <td>42.0</td>\n",
       "      <td>None</td>\n",
       "      <td>None</td>\n",
       "    </tr>\n",
       "    <tr>\n",
       "      <th>3</th>\n",
       "      <td>4</td>\n",
       "      <td>Ashley</td>\n",
       "      <td>1.60</td>\n",
       "      <td>33.0</td>\n",
       "      <td>F</td>\n",
       "      <td>Analyst</td>\n",
       "    </tr>\n",
       "    <tr>\n",
       "      <th>4</th>\n",
       "      <td>5</td>\n",
       "      <td>Olivia</td>\n",
       "      <td>1.80</td>\n",
       "      <td>54.0</td>\n",
       "      <td>F</td>\n",
       "      <td>Teacher</td>\n",
       "    </tr>\n",
       "    <tr>\n",
       "      <th>5</th>\n",
       "      <td>6</td>\n",
       "      <td>Hannah</td>\n",
       "      <td>1.82</td>\n",
       "      <td>42.0</td>\n",
       "      <td>F</td>\n",
       "      <td>None</td>\n",
       "    </tr>\n",
       "    <tr>\n",
       "      <th>6</th>\n",
       "      <td>7</td>\n",
       "      <td>William</td>\n",
       "      <td>1.75</td>\n",
       "      <td>42.0</td>\n",
       "      <td>M</td>\n",
       "      <td>Engineer</td>\n",
       "    </tr>\n",
       "    <tr>\n",
       "      <th>7</th>\n",
       "      <td>None</td>\n",
       "      <td>None</td>\n",
       "      <td>1.75</td>\n",
       "      <td>42.0</td>\n",
       "      <td>None</td>\n",
       "      <td>None</td>\n",
       "    </tr>\n",
       "    <tr>\n",
       "      <th>8</th>\n",
       "      <td>8</td>\n",
       "      <td>Ethan</td>\n",
       "      <td>1.55</td>\n",
       "      <td>38.0</td>\n",
       "      <td>M</td>\n",
       "      <td>Doctor</td>\n",
       "    </tr>\n",
       "    <tr>\n",
       "      <th>9</th>\n",
       "      <td>9</td>\n",
       "      <td>Hannah</td>\n",
       "      <td>1.65</td>\n",
       "      <td>42.0</td>\n",
       "      <td>F</td>\n",
       "      <td>Doctor</td>\n",
       "    </tr>\n",
       "    <tr>\n",
       "      <th>10</th>\n",
       "      <td>10</td>\n",
       "      <td>Xavier</td>\n",
       "      <td>1.64</td>\n",
       "      <td>43.0</td>\n",
       "      <td>None</td>\n",
       "      <td>Doctor</td>\n",
       "    </tr>\n",
       "  </tbody>\n",
       "</table>\n",
       "</div>"
      ],
      "text/plain": [
       "      Id     Name  Height   Age Gender Profession\n",
       "0      1     John    1.79  28.0      M     Doctor\n",
       "1      2    Steve    1.78  45.0      M       None\n",
       "2      3     Emma    1.75  42.0   None       None\n",
       "3      4   Ashley    1.60  33.0      F    Analyst\n",
       "4      5   Olivia    1.80  54.0      F    Teacher\n",
       "5      6   Hannah    1.82  42.0      F       None\n",
       "6      7  William    1.75  42.0      M   Engineer\n",
       "7   None     None    1.75  42.0   None       None\n",
       "8      8    Ethan    1.55  38.0      M     Doctor\n",
       "9      9   Hannah    1.65  42.0      F     Doctor\n",
       "10    10   Xavier    1.64  43.0   None     Doctor"
      ]
     },
     "execution_count": 152,
     "metadata": {},
     "output_type": "execute_result"
    }
   ],
   "source": [
    "pdf"
   ]
  },
  {
   "cell_type": "code",
   "execution_count": 153,
   "metadata": {},
   "outputs": [],
   "source": [
    "# Drop missing values\n",
    "pdf1 = pdf.dropna(subset=['Gender', 'Profession'])"
   ]
  },
  {
   "cell_type": "code",
   "execution_count": 154,
   "metadata": {},
   "outputs": [
    {
     "data": {
      "text/html": [
       "<div>\n",
       "<style scoped>\n",
       "    .dataframe tbody tr th:only-of-type {\n",
       "        vertical-align: middle;\n",
       "    }\n",
       "\n",
       "    .dataframe tbody tr th {\n",
       "        vertical-align: top;\n",
       "    }\n",
       "\n",
       "    .dataframe thead th {\n",
       "        text-align: right;\n",
       "    }\n",
       "</style>\n",
       "<table border=\"1\" class=\"dataframe\">\n",
       "  <thead>\n",
       "    <tr style=\"text-align: right;\">\n",
       "      <th></th>\n",
       "      <th>Id</th>\n",
       "      <th>Name</th>\n",
       "      <th>Height</th>\n",
       "      <th>Age</th>\n",
       "      <th>Gender</th>\n",
       "      <th>Profession</th>\n",
       "      <th>Gender_index</th>\n",
       "      <th>Profession_index</th>\n",
       "    </tr>\n",
       "  </thead>\n",
       "  <tbody>\n",
       "    <tr>\n",
       "      <th>0</th>\n",
       "      <td>1</td>\n",
       "      <td>John</td>\n",
       "      <td>1.79</td>\n",
       "      <td>28.0</td>\n",
       "      <td>M</td>\n",
       "      <td>Doctor</td>\n",
       "      <td>1</td>\n",
       "      <td>1</td>\n",
       "    </tr>\n",
       "    <tr>\n",
       "      <th>3</th>\n",
       "      <td>4</td>\n",
       "      <td>Ashley</td>\n",
       "      <td>1.60</td>\n",
       "      <td>33.0</td>\n",
       "      <td>F</td>\n",
       "      <td>Analyst</td>\n",
       "      <td>0</td>\n",
       "      <td>0</td>\n",
       "    </tr>\n",
       "    <tr>\n",
       "      <th>4</th>\n",
       "      <td>5</td>\n",
       "      <td>Olivia</td>\n",
       "      <td>1.80</td>\n",
       "      <td>54.0</td>\n",
       "      <td>F</td>\n",
       "      <td>Teacher</td>\n",
       "      <td>0</td>\n",
       "      <td>3</td>\n",
       "    </tr>\n",
       "    <tr>\n",
       "      <th>6</th>\n",
       "      <td>7</td>\n",
       "      <td>William</td>\n",
       "      <td>1.75</td>\n",
       "      <td>42.0</td>\n",
       "      <td>M</td>\n",
       "      <td>Engineer</td>\n",
       "      <td>1</td>\n",
       "      <td>2</td>\n",
       "    </tr>\n",
       "    <tr>\n",
       "      <th>8</th>\n",
       "      <td>8</td>\n",
       "      <td>Ethan</td>\n",
       "      <td>1.55</td>\n",
       "      <td>38.0</td>\n",
       "      <td>M</td>\n",
       "      <td>Doctor</td>\n",
       "      <td>1</td>\n",
       "      <td>1</td>\n",
       "    </tr>\n",
       "    <tr>\n",
       "      <th>9</th>\n",
       "      <td>9</td>\n",
       "      <td>Hannah</td>\n",
       "      <td>1.65</td>\n",
       "      <td>42.0</td>\n",
       "      <td>F</td>\n",
       "      <td>Doctor</td>\n",
       "      <td>0</td>\n",
       "      <td>1</td>\n",
       "    </tr>\n",
       "  </tbody>\n",
       "</table>\n",
       "</div>"
      ],
      "text/plain": [
       "  Id     Name  Height   Age Gender Profession  Gender_index  Profession_index\n",
       "0  1     John    1.79  28.0      M     Doctor             1                 1\n",
       "3  4   Ashley    1.60  33.0      F    Analyst             0                 0\n",
       "4  5   Olivia    1.80  54.0      F    Teacher             0                 3\n",
       "6  7  William    1.75  42.0      M   Engineer             1                 2\n",
       "8  8    Ethan    1.55  38.0      M     Doctor             1                 1\n",
       "9  9   Hannah    1.65  42.0      F     Doctor             0                 1"
      ]
     },
     "execution_count": 154,
     "metadata": {},
     "output_type": "execute_result"
    }
   ],
   "source": [
    "# Label Encoding\n",
    "from sklearn.preprocessing import LabelEncoder, OneHotEncoder\n",
    "\n",
    "label_encode_cols = ['Gender','Profession']\n",
    "pdf1[[f\"{col}_index\" for col in label_encode_cols]] = pdf1[label_encode_cols].apply(LabelEncoder().fit_transform)\n",
    "pdf1"
   ]
  },
  {
   "cell_type": "code",
   "execution_count": 161,
   "metadata": {},
   "outputs": [
    {
     "data": {
      "text/html": [
       "<div>\n",
       "<style scoped>\n",
       "    .dataframe tbody tr th:only-of-type {\n",
       "        vertical-align: middle;\n",
       "    }\n",
       "\n",
       "    .dataframe tbody tr th {\n",
       "        vertical-align: top;\n",
       "    }\n",
       "\n",
       "    .dataframe thead th {\n",
       "        text-align: right;\n",
       "    }\n",
       "</style>\n",
       "<table border=\"1\" class=\"dataframe\">\n",
       "  <thead>\n",
       "    <tr style=\"text-align: right;\">\n",
       "      <th></th>\n",
       "      <th>Id</th>\n",
       "      <th>Name</th>\n",
       "      <th>Height</th>\n",
       "      <th>Age</th>\n",
       "      <th>Gender_M</th>\n",
       "      <th>Profession_Doctor</th>\n",
       "      <th>Profession_Engineer</th>\n",
       "      <th>Profession_Teacher</th>\n",
       "    </tr>\n",
       "  </thead>\n",
       "  <tbody>\n",
       "    <tr>\n",
       "      <th>0</th>\n",
       "      <td>1</td>\n",
       "      <td>John</td>\n",
       "      <td>1.79</td>\n",
       "      <td>28.0</td>\n",
       "      <td>1</td>\n",
       "      <td>1</td>\n",
       "      <td>0</td>\n",
       "      <td>0</td>\n",
       "    </tr>\n",
       "    <tr>\n",
       "      <th>1</th>\n",
       "      <td>2</td>\n",
       "      <td>Steve</td>\n",
       "      <td>1.78</td>\n",
       "      <td>45.0</td>\n",
       "      <td>1</td>\n",
       "      <td>0</td>\n",
       "      <td>0</td>\n",
       "      <td>0</td>\n",
       "    </tr>\n",
       "    <tr>\n",
       "      <th>2</th>\n",
       "      <td>3</td>\n",
       "      <td>Emma</td>\n",
       "      <td>1.75</td>\n",
       "      <td>42.0</td>\n",
       "      <td>0</td>\n",
       "      <td>0</td>\n",
       "      <td>0</td>\n",
       "      <td>0</td>\n",
       "    </tr>\n",
       "    <tr>\n",
       "      <th>3</th>\n",
       "      <td>4</td>\n",
       "      <td>Ashley</td>\n",
       "      <td>1.60</td>\n",
       "      <td>33.0</td>\n",
       "      <td>0</td>\n",
       "      <td>0</td>\n",
       "      <td>0</td>\n",
       "      <td>0</td>\n",
       "    </tr>\n",
       "    <tr>\n",
       "      <th>4</th>\n",
       "      <td>5</td>\n",
       "      <td>Olivia</td>\n",
       "      <td>1.80</td>\n",
       "      <td>54.0</td>\n",
       "      <td>0</td>\n",
       "      <td>0</td>\n",
       "      <td>0</td>\n",
       "      <td>1</td>\n",
       "    </tr>\n",
       "    <tr>\n",
       "      <th>5</th>\n",
       "      <td>6</td>\n",
       "      <td>Hannah</td>\n",
       "      <td>1.82</td>\n",
       "      <td>42.0</td>\n",
       "      <td>0</td>\n",
       "      <td>0</td>\n",
       "      <td>0</td>\n",
       "      <td>0</td>\n",
       "    </tr>\n",
       "    <tr>\n",
       "      <th>6</th>\n",
       "      <td>7</td>\n",
       "      <td>William</td>\n",
       "      <td>1.75</td>\n",
       "      <td>42.0</td>\n",
       "      <td>1</td>\n",
       "      <td>0</td>\n",
       "      <td>1</td>\n",
       "      <td>0</td>\n",
       "    </tr>\n",
       "    <tr>\n",
       "      <th>7</th>\n",
       "      <td>None</td>\n",
       "      <td>None</td>\n",
       "      <td>1.75</td>\n",
       "      <td>42.0</td>\n",
       "      <td>0</td>\n",
       "      <td>0</td>\n",
       "      <td>0</td>\n",
       "      <td>0</td>\n",
       "    </tr>\n",
       "    <tr>\n",
       "      <th>8</th>\n",
       "      <td>8</td>\n",
       "      <td>Ethan</td>\n",
       "      <td>1.55</td>\n",
       "      <td>38.0</td>\n",
       "      <td>1</td>\n",
       "      <td>1</td>\n",
       "      <td>0</td>\n",
       "      <td>0</td>\n",
       "    </tr>\n",
       "    <tr>\n",
       "      <th>9</th>\n",
       "      <td>9</td>\n",
       "      <td>Hannah</td>\n",
       "      <td>1.65</td>\n",
       "      <td>42.0</td>\n",
       "      <td>0</td>\n",
       "      <td>1</td>\n",
       "      <td>0</td>\n",
       "      <td>0</td>\n",
       "    </tr>\n",
       "    <tr>\n",
       "      <th>10</th>\n",
       "      <td>10</td>\n",
       "      <td>Xavier</td>\n",
       "      <td>1.64</td>\n",
       "      <td>43.0</td>\n",
       "      <td>0</td>\n",
       "      <td>1</td>\n",
       "      <td>0</td>\n",
       "      <td>0</td>\n",
       "    </tr>\n",
       "  </tbody>\n",
       "</table>\n",
       "</div>"
      ],
      "text/plain": [
       "      Id     Name  Height   Age  Gender_M  Profession_Doctor  \\\n",
       "0      1     John    1.79  28.0         1                  1   \n",
       "1      2    Steve    1.78  45.0         1                  0   \n",
       "2      3     Emma    1.75  42.0         0                  0   \n",
       "3      4   Ashley    1.60  33.0         0                  0   \n",
       "4      5   Olivia    1.80  54.0         0                  0   \n",
       "5      6   Hannah    1.82  42.0         0                  0   \n",
       "6      7  William    1.75  42.0         1                  0   \n",
       "7   None     None    1.75  42.0         0                  0   \n",
       "8      8    Ethan    1.55  38.0         1                  1   \n",
       "9      9   Hannah    1.65  42.0         0                  1   \n",
       "10    10   Xavier    1.64  43.0         0                  1   \n",
       "\n",
       "    Profession_Engineer  Profession_Teacher  \n",
       "0                     0                   0  \n",
       "1                     0                   0  \n",
       "2                     0                   0  \n",
       "3                     0                   0  \n",
       "4                     0                   1  \n",
       "5                     0                   0  \n",
       "6                     1                   0  \n",
       "7                     0                   0  \n",
       "8                     0                   0  \n",
       "9                     0                   0  \n",
       "10                    0                   0  "
      ]
     },
     "execution_count": 161,
     "metadata": {},
     "output_type": "execute_result"
    }
   ],
   "source": [
    "# One Hot Encoding\n",
    "pdf2 = pd.get_dummies(pdf, columns =  ['Gender','Profession'], drop_first=True)\n",
    "pdf2"
   ]
  },
  {
   "cell_type": "code",
   "execution_count": 197,
   "metadata": {},
   "outputs": [
    {
     "data": {
      "text/html": [
       "<div>\n",
       "<style scoped>\n",
       "    .dataframe tbody tr th:only-of-type {\n",
       "        vertical-align: middle;\n",
       "    }\n",
       "\n",
       "    .dataframe tbody tr th {\n",
       "        vertical-align: top;\n",
       "    }\n",
       "\n",
       "    .dataframe thead th {\n",
       "        text-align: right;\n",
       "    }\n",
       "</style>\n",
       "<table border=\"1\" class=\"dataframe\">\n",
       "  <thead>\n",
       "    <tr style=\"text-align: right;\">\n",
       "      <th></th>\n",
       "      <th>Id</th>\n",
       "      <th>Name</th>\n",
       "      <th>Height</th>\n",
       "      <th>Age</th>\n",
       "      <th>Gender_M</th>\n",
       "      <th>Gender_F</th>\n",
       "      <th>Profession_Doctor</th>\n",
       "      <th>Profession_Analyst</th>\n",
       "      <th>Profession_Teacher</th>\n",
       "      <th>Profession_Engineer</th>\n",
       "      <th>Gender_index</th>\n",
       "      <th>Profession_index</th>\n",
       "    </tr>\n",
       "  </thead>\n",
       "  <tbody>\n",
       "    <tr>\n",
       "      <th>0</th>\n",
       "      <td>1</td>\n",
       "      <td>John</td>\n",
       "      <td>1.79</td>\n",
       "      <td>28.0</td>\n",
       "      <td>1</td>\n",
       "      <td>0</td>\n",
       "      <td>1</td>\n",
       "      <td>0</td>\n",
       "      <td>0</td>\n",
       "      <td>0</td>\n",
       "      <td>1</td>\n",
       "      <td>1</td>\n",
       "    </tr>\n",
       "    <tr>\n",
       "      <th>3</th>\n",
       "      <td>4</td>\n",
       "      <td>Ashley</td>\n",
       "      <td>1.60</td>\n",
       "      <td>33.0</td>\n",
       "      <td>0</td>\n",
       "      <td>1</td>\n",
       "      <td>0</td>\n",
       "      <td>1</td>\n",
       "      <td>0</td>\n",
       "      <td>0</td>\n",
       "      <td>0</td>\n",
       "      <td>0</td>\n",
       "    </tr>\n",
       "    <tr>\n",
       "      <th>4</th>\n",
       "      <td>5</td>\n",
       "      <td>Olivia</td>\n",
       "      <td>1.80</td>\n",
       "      <td>54.0</td>\n",
       "      <td>0</td>\n",
       "      <td>1</td>\n",
       "      <td>0</td>\n",
       "      <td>0</td>\n",
       "      <td>1</td>\n",
       "      <td>0</td>\n",
       "      <td>0</td>\n",
       "      <td>3</td>\n",
       "    </tr>\n",
       "    <tr>\n",
       "      <th>6</th>\n",
       "      <td>7</td>\n",
       "      <td>William</td>\n",
       "      <td>1.75</td>\n",
       "      <td>42.0</td>\n",
       "      <td>1</td>\n",
       "      <td>0</td>\n",
       "      <td>0</td>\n",
       "      <td>0</td>\n",
       "      <td>0</td>\n",
       "      <td>1</td>\n",
       "      <td>1</td>\n",
       "      <td>2</td>\n",
       "    </tr>\n",
       "    <tr>\n",
       "      <th>8</th>\n",
       "      <td>8</td>\n",
       "      <td>Ethan</td>\n",
       "      <td>1.55</td>\n",
       "      <td>38.0</td>\n",
       "      <td>1</td>\n",
       "      <td>0</td>\n",
       "      <td>1</td>\n",
       "      <td>0</td>\n",
       "      <td>0</td>\n",
       "      <td>0</td>\n",
       "      <td>1</td>\n",
       "      <td>1</td>\n",
       "    </tr>\n",
       "    <tr>\n",
       "      <th>9</th>\n",
       "      <td>9</td>\n",
       "      <td>Hannah</td>\n",
       "      <td>1.65</td>\n",
       "      <td>42.0</td>\n",
       "      <td>0</td>\n",
       "      <td>1</td>\n",
       "      <td>1</td>\n",
       "      <td>0</td>\n",
       "      <td>0</td>\n",
       "      <td>0</td>\n",
       "      <td>0</td>\n",
       "      <td>1</td>\n",
       "    </tr>\n",
       "  </tbody>\n",
       "</table>\n",
       "</div>"
      ],
      "text/plain": [
       "  Id     Name  Height   Age  Gender_M  Gender_F  Profession_Doctor  \\\n",
       "0  1     John    1.79  28.0         1         0                  1   \n",
       "3  4   Ashley    1.60  33.0         0         1                  0   \n",
       "4  5   Olivia    1.80  54.0         0         1                  0   \n",
       "6  7  William    1.75  42.0         1         0                  0   \n",
       "8  8    Ethan    1.55  38.0         1         0                  1   \n",
       "9  9   Hannah    1.65  42.0         0         1                  1   \n",
       "\n",
       "   Profession_Analyst  Profession_Teacher  Profession_Engineer  Gender_index  \\\n",
       "0                   0                   0                    0             1   \n",
       "3                   1                   0                    0             0   \n",
       "4                   0                   1                    0             0   \n",
       "6                   0                   0                    1             1   \n",
       "8                   0                   0                    0             1   \n",
       "9                   0                   0                    0             0   \n",
       "\n",
       "   Profession_index  \n",
       "0                 1  \n",
       "3                 0  \n",
       "4                 3  \n",
       "6                 2  \n",
       "8                 1  \n",
       "9                 1  "
      ]
     },
     "execution_count": 197,
     "metadata": {},
     "output_type": "execute_result"
    }
   ],
   "source": [
    "# One Hot Encoding Alternative\n",
    "# !pip install category_encoders\n",
    "import category_encoders as ce\n",
    "\n",
    "one_hot_encode_cols = ['Gender','Profession']\n",
    "encoder_var=ce.OneHotEncoder(cols=one_hot_encode_cols, use_cat_names=True)\n",
    "pdf3 = encoder_var.fit_transform(pdf1)\n",
    "pdf3"
   ]
  },
  {
   "cell_type": "code",
   "execution_count": 147,
   "metadata": {},
   "outputs": [
    {
     "name": "stdout",
     "output_type": "stream",
     "text": [
      "+---+------+------+----+------+----------+--------------+-----------+\n",
      "| Id|  Name|Height| Age|Gender|Profession|Height_imputed|Age_imputed|\n",
      "+---+------+------+----+------+----------+--------------+-----------+\n",
      "|  1|  John|  1.79|  28|     M|    Doctor|          1.79|         28|\n",
      "|  2| Steve|  1.78|  45|     M|      null|          1.78|         45|\n",
      "|  3|  Emma|  1.75|null|  null|      null|          1.75|         42|\n",
      "|  4|Ashley|   1.6|  33|     F|   Analyst|           1.6|         33|\n",
      "|  5|Olivia|   1.8|  54|     F|   Teacher|           1.8|         54|\n",
      "+---+------+------+----+------+----------+--------------+-----------+\n",
      "only showing top 5 rows\n",
      "\n"
     ]
    }
   ],
   "source": [
    "sdf.show(5)"
   ]
  },
  {
   "cell_type": "code",
   "execution_count": 148,
   "metadata": {},
   "outputs": [
    {
     "name": "stdout",
     "output_type": "stream",
     "text": [
      "+---+-------+------+----+------+----------+--------------+-----------+\n",
      "| Id|   Name|Height| Age|Gender|Profession|Height_imputed|Age_imputed|\n",
      "+---+-------+------+----+------+----------+--------------+-----------+\n",
      "|  1|   John|  1.79|  28|     M|    Doctor|          1.79|         28|\n",
      "|  4| Ashley|   1.6|  33|     F|   Analyst|           1.6|         33|\n",
      "|  5| Olivia|   1.8|  54|     F|   Teacher|           1.8|         54|\n",
      "|  7|William|  null|  42|     M|  Engineer|          1.75|         42|\n",
      "|  8|  Ethan|  1.55|  38|     M|    Doctor|          1.55|         38|\n",
      "|  9| Hannah|  1.65|null|     F|    Doctor|          1.65|         42|\n",
      "+---+-------+------+----+------+----------+--------------+-----------+\n",
      "\n"
     ]
    }
   ],
   "source": [
    "# Drop missing values\n",
    "sdf1 = sdf.dropna(subset=('Gender', 'Profession'))\n",
    "sdf1.show()"
   ]
  },
  {
   "cell_type": "code",
   "execution_count": 149,
   "metadata": {},
   "outputs": [
    {
     "name": "stdout",
     "output_type": "stream",
     "text": [
      "+---+-------+------+----+------+----------+--------------+-----------+-----------+---------------+\n",
      "| Id|   Name|Height| Age|Gender|Profession|Height_imputed|Age_imputed|GenderIndex|ProfessionIndex|\n",
      "+---+-------+------+----+------+----------+--------------+-----------+-----------+---------------+\n",
      "|  1|   John|  1.79|  28|     M|    Doctor|          1.79|         28|        1.0|            0.0|\n",
      "|  4| Ashley|   1.6|  33|     F|   Analyst|           1.6|         33|        0.0|            1.0|\n",
      "|  5| Olivia|   1.8|  54|     F|   Teacher|           1.8|         54|        0.0|            3.0|\n",
      "|  7|William|  null|  42|     M|  Engineer|          1.75|         42|        1.0|            2.0|\n",
      "|  8|  Ethan|  1.55|  38|     M|    Doctor|          1.55|         38|        1.0|            0.0|\n",
      "|  9| Hannah|  1.65|null|     F|    Doctor|          1.65|         42|        0.0|            0.0|\n",
      "+---+-------+------+----+------+----------+--------------+-----------+-----------+---------------+\n",
      "\n"
     ]
    }
   ],
   "source": [
    "# Label Encoding\n",
    "\n",
    "from pyspark.ml.feature import StringIndexer\n",
    "gender_indexer = StringIndexer(inputCol=\"Gender\", outputCol=\"GenderIndex\")\n",
    "Profession_indexer = StringIndexer(inputCol=\"Profession\", outputCol=\"ProfessionIndex\")\n",
    "sdf1 = gender_indexer.fit(sdf1).transform(sdf1)\n",
    "sdf1 = Profession_indexer.fit(sdf1).transform(sdf1)\n",
    "sdf1.show()"
   ]
  },
  {
   "cell_type": "markdown",
   "metadata": {},
   "source": [
    "OneHotEncoding yapmadan once mutlaka indexleme(label encoding) yapilmali. Indexleme ile numeric yapilmadan OneHotEncoding uygulanamaz."
   ]
  },
  {
   "cell_type": "code",
   "execution_count": 150,
   "metadata": {},
   "outputs": [
    {
     "name": "stdout",
     "output_type": "stream",
     "text": [
      "+---+-------+------+----+------+----------+--------------+-----------+-----------+---------------+-------------+-----------------+\n",
      "| Id|   Name|Height| Age|Gender|Profession|Height_imputed|Age_imputed|GenderIndex|ProfessionIndex|Gender_vector|Profession_vector|\n",
      "+---+-------+------+----+------+----------+--------------+-----------+-----------+---------------+-------------+-----------------+\n",
      "|  1|   John|  1.79|  28|     M|    Doctor|          1.79|         28|        1.0|            0.0|    (1,[],[])|    (3,[0],[1.0])|\n",
      "|  4| Ashley|   1.6|  33|     F|   Analyst|           1.6|         33|        0.0|            1.0|(1,[0],[1.0])|    (3,[1],[1.0])|\n",
      "|  5| Olivia|   1.8|  54|     F|   Teacher|           1.8|         54|        0.0|            3.0|(1,[0],[1.0])|        (3,[],[])|\n",
      "|  7|William|  null|  42|     M|  Engineer|          1.75|         42|        1.0|            2.0|    (1,[],[])|    (3,[2],[1.0])|\n",
      "|  8|  Ethan|  1.55|  38|     M|    Doctor|          1.55|         38|        1.0|            0.0|    (1,[],[])|    (3,[0],[1.0])|\n",
      "|  9| Hannah|  1.65|null|     F|    Doctor|          1.65|         42|        0.0|            0.0|(1,[0],[1.0])|    (3,[0],[1.0])|\n",
      "+---+-------+------+----+------+----------+--------------+-----------+-----------+---------------+-------------+-----------------+\n",
      "\n"
     ]
    }
   ],
   "source": [
    "# OneHotEncoding\n",
    "from pyspark.ml.feature import OneHotEncoder\n",
    "\n",
    "onehotencoder_gender_vector = OneHotEncoder(inputCol='GenderIndex',outputCol='Gender_vector')\n",
    "onehotencoder_profession_vector = OneHotEncoder(inputCol='ProfessionIndex',outputCol='Profession_vector')\n",
    "sdf2 = onehotencoder_gender_vector.fit(sdf1).transform(sdf1)\n",
    "sdf2 = onehotencoder_profession_vector.fit(sdf2).transform(sdf2)\n",
    "sdf2.show()"
   ]
  },
  {
   "cell_type": "markdown",
   "metadata": {},
   "source": [
    "# SQL İşlemleri"
   ]
  },
  {
   "cell_type": "markdown",
   "metadata": {},
   "source": [
    "## Pandas SQL"
   ]
  },
  {
   "cell_type": "code",
   "execution_count": 266,
   "metadata": {},
   "outputs": [],
   "source": [
    "from sqlite3 import connect\n",
    "conn = connect(':memory:')\n",
    "pandas_df.to_sql('test_data', conn)"
   ]
  },
  {
   "cell_type": "markdown",
   "metadata": {},
   "source": [
    "### quary-1"
   ]
  },
  {
   "cell_type": "code",
   "execution_count": 342,
   "metadata": {},
   "outputs": [
    {
     "data": {
      "text/html": [
       "<div>\n",
       "<style scoped>\n",
       "    .dataframe tbody tr th:only-of-type {\n",
       "        vertical-align: middle;\n",
       "    }\n",
       "\n",
       "    .dataframe tbody tr th {\n",
       "        vertical-align: top;\n",
       "    }\n",
       "\n",
       "    .dataframe thead th {\n",
       "        text-align: right;\n",
       "    }\n",
       "</style>\n",
       "<table border=\"1\" class=\"dataframe\">\n",
       "  <thead>\n",
       "    <tr style=\"text-align: right;\">\n",
       "      <th></th>\n",
       "      <th>age</th>\n",
       "      <th>sex</th>\n",
       "    </tr>\n",
       "  </thead>\n",
       "  <tbody>\n",
       "    <tr>\n",
       "      <th>0</th>\n",
       "      <td>0.038076</td>\n",
       "      <td>0.050680</td>\n",
       "    </tr>\n",
       "    <tr>\n",
       "      <th>1</th>\n",
       "      <td>-0.001882</td>\n",
       "      <td>-0.044642</td>\n",
       "    </tr>\n",
       "    <tr>\n",
       "      <th>2</th>\n",
       "      <td>0.085299</td>\n",
       "      <td>0.050680</td>\n",
       "    </tr>\n",
       "    <tr>\n",
       "      <th>3</th>\n",
       "      <td>-0.089063</td>\n",
       "      <td>-0.044642</td>\n",
       "    </tr>\n",
       "    <tr>\n",
       "      <th>4</th>\n",
       "      <td>0.005383</td>\n",
       "      <td>-0.044642</td>\n",
       "    </tr>\n",
       "    <tr>\n",
       "      <th>...</th>\n",
       "      <td>...</td>\n",
       "      <td>...</td>\n",
       "    </tr>\n",
       "    <tr>\n",
       "      <th>437</th>\n",
       "      <td>0.041708</td>\n",
       "      <td>0.050680</td>\n",
       "    </tr>\n",
       "    <tr>\n",
       "      <th>438</th>\n",
       "      <td>-0.005515</td>\n",
       "      <td>0.050680</td>\n",
       "    </tr>\n",
       "    <tr>\n",
       "      <th>439</th>\n",
       "      <td>0.041708</td>\n",
       "      <td>0.050680</td>\n",
       "    </tr>\n",
       "    <tr>\n",
       "      <th>440</th>\n",
       "      <td>-0.045472</td>\n",
       "      <td>-0.044642</td>\n",
       "    </tr>\n",
       "    <tr>\n",
       "      <th>441</th>\n",
       "      <td>-0.045472</td>\n",
       "      <td>-0.044642</td>\n",
       "    </tr>\n",
       "  </tbody>\n",
       "</table>\n",
       "<p>442 rows × 2 columns</p>\n",
       "</div>"
      ],
      "text/plain": [
       "          age       sex\n",
       "0    0.038076  0.050680\n",
       "1   -0.001882 -0.044642\n",
       "2    0.085299  0.050680\n",
       "3   -0.089063 -0.044642\n",
       "4    0.005383 -0.044642\n",
       "..        ...       ...\n",
       "437  0.041708  0.050680\n",
       "438 -0.005515  0.050680\n",
       "439  0.041708  0.050680\n",
       "440 -0.045472 -0.044642\n",
       "441 -0.045472 -0.044642\n",
       "\n",
       "[442 rows x 2 columns]"
      ]
     },
     "execution_count": 342,
     "metadata": {},
     "output_type": "execute_result"
    }
   ],
   "source": [
    "pandas_df[['age','sex']]"
   ]
  },
  {
   "cell_type": "code",
   "execution_count": 267,
   "metadata": {},
   "outputs": [
    {
     "data": {
      "text/html": [
       "<div>\n",
       "<style scoped>\n",
       "    .dataframe tbody tr th:only-of-type {\n",
       "        vertical-align: middle;\n",
       "    }\n",
       "\n",
       "    .dataframe tbody tr th {\n",
       "        vertical-align: top;\n",
       "    }\n",
       "\n",
       "    .dataframe thead th {\n",
       "        text-align: right;\n",
       "    }\n",
       "</style>\n",
       "<table border=\"1\" class=\"dataframe\">\n",
       "  <thead>\n",
       "    <tr style=\"text-align: right;\">\n",
       "      <th></th>\n",
       "      <th>age</th>\n",
       "      <th>sex</th>\n",
       "    </tr>\n",
       "  </thead>\n",
       "  <tbody>\n",
       "    <tr>\n",
       "      <th>0</th>\n",
       "      <td>0.038076</td>\n",
       "      <td>0.050680</td>\n",
       "    </tr>\n",
       "    <tr>\n",
       "      <th>1</th>\n",
       "      <td>-0.001882</td>\n",
       "      <td>-0.044642</td>\n",
       "    </tr>\n",
       "    <tr>\n",
       "      <th>2</th>\n",
       "      <td>0.085299</td>\n",
       "      <td>0.050680</td>\n",
       "    </tr>\n",
       "    <tr>\n",
       "      <th>3</th>\n",
       "      <td>-0.089063</td>\n",
       "      <td>-0.044642</td>\n",
       "    </tr>\n",
       "    <tr>\n",
       "      <th>4</th>\n",
       "      <td>0.005383</td>\n",
       "      <td>-0.044642</td>\n",
       "    </tr>\n",
       "    <tr>\n",
       "      <th>...</th>\n",
       "      <td>...</td>\n",
       "      <td>...</td>\n",
       "    </tr>\n",
       "    <tr>\n",
       "      <th>437</th>\n",
       "      <td>0.041708</td>\n",
       "      <td>0.050680</td>\n",
       "    </tr>\n",
       "    <tr>\n",
       "      <th>438</th>\n",
       "      <td>-0.005515</td>\n",
       "      <td>0.050680</td>\n",
       "    </tr>\n",
       "    <tr>\n",
       "      <th>439</th>\n",
       "      <td>0.041708</td>\n",
       "      <td>0.050680</td>\n",
       "    </tr>\n",
       "    <tr>\n",
       "      <th>440</th>\n",
       "      <td>-0.045472</td>\n",
       "      <td>-0.044642</td>\n",
       "    </tr>\n",
       "    <tr>\n",
       "      <th>441</th>\n",
       "      <td>-0.045472</td>\n",
       "      <td>-0.044642</td>\n",
       "    </tr>\n",
       "  </tbody>\n",
       "</table>\n",
       "<p>442 rows × 2 columns</p>\n",
       "</div>"
      ],
      "text/plain": [
       "          age       sex\n",
       "0    0.038076  0.050680\n",
       "1   -0.001882 -0.044642\n",
       "2    0.085299  0.050680\n",
       "3   -0.089063 -0.044642\n",
       "4    0.005383 -0.044642\n",
       "..        ...       ...\n",
       "437  0.041708  0.050680\n",
       "438 -0.005515  0.050680\n",
       "439  0.041708  0.050680\n",
       "440 -0.045472 -0.044642\n",
       "441 -0.045472 -0.044642\n",
       "\n",
       "[442 rows x 2 columns]"
      ]
     },
     "execution_count": 267,
     "metadata": {},
     "output_type": "execute_result"
    }
   ],
   "source": [
    "pd.read_sql('SELECT age, sex FROM test_data', conn)"
   ]
  },
  {
   "cell_type": "markdown",
   "metadata": {},
   "source": [
    "### quary-2"
   ]
  },
  {
   "cell_type": "code",
   "execution_count": 270,
   "metadata": {},
   "outputs": [
    {
     "data": {
      "text/html": [
       "<div>\n",
       "<style scoped>\n",
       "    .dataframe tbody tr th:only-of-type {\n",
       "        vertical-align: middle;\n",
       "    }\n",
       "\n",
       "    .dataframe tbody tr th {\n",
       "        vertical-align: top;\n",
       "    }\n",
       "\n",
       "    .dataframe thead th {\n",
       "        text-align: right;\n",
       "    }\n",
       "</style>\n",
       "<table border=\"1\" class=\"dataframe\">\n",
       "  <thead>\n",
       "    <tr style=\"text-align: right;\">\n",
       "      <th></th>\n",
       "      <th>age</th>\n",
       "      <th>bmi</th>\n",
       "    </tr>\n",
       "    <tr>\n",
       "      <th>sex</th>\n",
       "      <th></th>\n",
       "      <th></th>\n",
       "    </tr>\n",
       "  </thead>\n",
       "  <tbody>\n",
       "    <tr>\n",
       "      <th>-0.044642</th>\n",
       "      <td>-0.007756</td>\n",
       "      <td>235</td>\n",
       "    </tr>\n",
       "    <tr>\n",
       "      <th>0.050680</th>\n",
       "      <td>0.008805</td>\n",
       "      <td>207</td>\n",
       "    </tr>\n",
       "  </tbody>\n",
       "</table>\n",
       "</div>"
      ],
      "text/plain": [
       "                age  bmi\n",
       "sex                     \n",
       "-0.044642 -0.007756  235\n",
       " 0.050680  0.008805  207"
      ]
     },
     "execution_count": 270,
     "metadata": {},
     "output_type": "execute_result"
    }
   ],
   "source": [
    "pandas_df.groupby(\"sex\").agg({\"age\": np.mean, \"bmi\": np.size})"
   ]
  },
  {
   "cell_type": "code",
   "execution_count": 278,
   "metadata": {},
   "outputs": [
    {
     "data": {
      "text/html": [
       "<div>\n",
       "<style scoped>\n",
       "    .dataframe tbody tr th:only-of-type {\n",
       "        vertical-align: middle;\n",
       "    }\n",
       "\n",
       "    .dataframe tbody tr th {\n",
       "        vertical-align: top;\n",
       "    }\n",
       "\n",
       "    .dataframe thead th {\n",
       "        text-align: right;\n",
       "    }\n",
       "</style>\n",
       "<table border=\"1\" class=\"dataframe\">\n",
       "  <thead>\n",
       "    <tr style=\"text-align: right;\">\n",
       "      <th></th>\n",
       "      <th>sex</th>\n",
       "      <th>AVG(age)</th>\n",
       "      <th>COUNT(bmi)</th>\n",
       "    </tr>\n",
       "  </thead>\n",
       "  <tbody>\n",
       "    <tr>\n",
       "      <th>0</th>\n",
       "      <td>-0.044642</td>\n",
       "      <td>-0.007756</td>\n",
       "      <td>235</td>\n",
       "    </tr>\n",
       "    <tr>\n",
       "      <th>1</th>\n",
       "      <td>0.050680</td>\n",
       "      <td>0.008805</td>\n",
       "      <td>207</td>\n",
       "    </tr>\n",
       "  </tbody>\n",
       "</table>\n",
       "</div>"
      ],
      "text/plain": [
       "        sex  AVG(age)  COUNT(bmi)\n",
       "0 -0.044642 -0.007756         235\n",
       "1  0.050680  0.008805         207"
      ]
     },
     "execution_count": 278,
     "metadata": {},
     "output_type": "execute_result"
    }
   ],
   "source": [
    "query = \"\"\"SELECT sex, AVG(age), COUNT(bmi)\n",
    "            FROM test_data\n",
    "            GROUP BY sex;\"\"\"\n",
    "\n",
    "pd.read_sql(query, conn)"
   ]
  },
  {
   "cell_type": "markdown",
   "metadata": {},
   "source": [
    "### quary-3"
   ]
  },
  {
   "cell_type": "code",
   "execution_count": 338,
   "metadata": {},
   "outputs": [
    {
     "data": {
      "text/html": [
       "<div>\n",
       "<style scoped>\n",
       "    .dataframe tbody tr th:only-of-type {\n",
       "        vertical-align: middle;\n",
       "    }\n",
       "\n",
       "    .dataframe tbody tr th {\n",
       "        vertical-align: top;\n",
       "    }\n",
       "\n",
       "    .dataframe thead th {\n",
       "        text-align: right;\n",
       "    }\n",
       "</style>\n",
       "<table border=\"1\" class=\"dataframe\">\n",
       "  <thead>\n",
       "    <tr style=\"text-align: right;\">\n",
       "      <th></th>\n",
       "      <th>age</th>\n",
       "      <th>sex</th>\n",
       "      <th>bmi</th>\n",
       "      <th>bp</th>\n",
       "      <th>yeni_degisken</th>\n",
       "    </tr>\n",
       "  </thead>\n",
       "  <tbody>\n",
       "    <tr>\n",
       "      <th>402</th>\n",
       "      <td>0.110727</td>\n",
       "      <td>0.05068</td>\n",
       "      <td>-0.033151</td>\n",
       "      <td>-0.022885</td>\n",
       "      <td>110.726675</td>\n",
       "    </tr>\n",
       "    <tr>\n",
       "      <th>204</th>\n",
       "      <td>0.110727</td>\n",
       "      <td>0.05068</td>\n",
       "      <td>0.006728</td>\n",
       "      <td>0.028758</td>\n",
       "      <td>110.726675</td>\n",
       "    </tr>\n",
       "    <tr>\n",
       "      <th>2</th>\n",
       "      <td>0.085299</td>\n",
       "      <td>0.05068</td>\n",
       "      <td>0.044451</td>\n",
       "      <td>-0.005671</td>\n",
       "      <td>85.298906</td>\n",
       "    </tr>\n",
       "    <tr>\n",
       "      <th>345</th>\n",
       "      <td>0.081666</td>\n",
       "      <td>0.05068</td>\n",
       "      <td>-0.002973</td>\n",
       "      <td>-0.033214</td>\n",
       "      <td>81.666368</td>\n",
       "    </tr>\n",
       "    <tr>\n",
       "      <th>414</th>\n",
       "      <td>0.081666</td>\n",
       "      <td>0.05068</td>\n",
       "      <td>0.006728</td>\n",
       "      <td>-0.004523</td>\n",
       "      <td>81.666368</td>\n",
       "    </tr>\n",
       "    <tr>\n",
       "      <th>331</th>\n",
       "      <td>0.081666</td>\n",
       "      <td>0.05068</td>\n",
       "      <td>-0.025607</td>\n",
       "      <td>-0.036656</td>\n",
       "      <td>81.666368</td>\n",
       "    </tr>\n",
       "    <tr>\n",
       "      <th>202</th>\n",
       "      <td>0.081666</td>\n",
       "      <td>0.05068</td>\n",
       "      <td>0.001339</td>\n",
       "      <td>0.035644</td>\n",
       "      <td>81.666368</td>\n",
       "    </tr>\n",
       "    <tr>\n",
       "      <th>258</th>\n",
       "      <td>0.078034</td>\n",
       "      <td>0.05068</td>\n",
       "      <td>-0.024529</td>\n",
       "      <td>-0.042395</td>\n",
       "      <td>78.033829</td>\n",
       "    </tr>\n",
       "    <tr>\n",
       "      <th>273</th>\n",
       "      <td>0.074401</td>\n",
       "      <td>0.05068</td>\n",
       "      <td>-0.020218</td>\n",
       "      <td>0.045972</td>\n",
       "      <td>74.401291</td>\n",
       "    </tr>\n",
       "    <tr>\n",
       "      <th>17</th>\n",
       "      <td>0.070769</td>\n",
       "      <td>0.05068</td>\n",
       "      <td>0.012117</td>\n",
       "      <td>0.056301</td>\n",
       "      <td>70.768752</td>\n",
       "    </tr>\n",
       "  </tbody>\n",
       "</table>\n",
       "</div>"
      ],
      "text/plain": [
       "          age      sex       bmi        bp  yeni_degisken\n",
       "402  0.110727  0.05068 -0.033151 -0.022885     110.726675\n",
       "204  0.110727  0.05068  0.006728  0.028758     110.726675\n",
       "2    0.085299  0.05068  0.044451 -0.005671      85.298906\n",
       "345  0.081666  0.05068 -0.002973 -0.033214      81.666368\n",
       "414  0.081666  0.05068  0.006728 -0.004523      81.666368\n",
       "331  0.081666  0.05068 -0.025607 -0.036656      81.666368\n",
       "202  0.081666  0.05068  0.001339  0.035644      81.666368\n",
       "258  0.078034  0.05068 -0.024529 -0.042395      78.033829\n",
       "273  0.074401  0.05068 -0.020218  0.045972      74.401291\n",
       "17   0.070769  0.05068  0.012117  0.056301      70.768752"
      ]
     },
     "execution_count": 338,
     "metadata": {},
     "output_type": "execute_result"
    }
   ],
   "source": [
    "pandas_df[pandas_df.sex>0].sort_values('age', ascending=False)[:10]"
   ]
  },
  {
   "cell_type": "code",
   "execution_count": 341,
   "metadata": {},
   "outputs": [
    {
     "data": {
      "text/html": [
       "<div>\n",
       "<style scoped>\n",
       "    .dataframe tbody tr th:only-of-type {\n",
       "        vertical-align: middle;\n",
       "    }\n",
       "\n",
       "    .dataframe tbody tr th {\n",
       "        vertical-align: top;\n",
       "    }\n",
       "\n",
       "    .dataframe thead th {\n",
       "        text-align: right;\n",
       "    }\n",
       "</style>\n",
       "<table border=\"1\" class=\"dataframe\">\n",
       "  <thead>\n",
       "    <tr style=\"text-align: right;\">\n",
       "      <th></th>\n",
       "      <th>age</th>\n",
       "      <th>sex</th>\n",
       "      <th>bmi</th>\n",
       "      <th>bp</th>\n",
       "      <th>yeni_degisken</th>\n",
       "    </tr>\n",
       "    <tr>\n",
       "      <th>index</th>\n",
       "      <th></th>\n",
       "      <th></th>\n",
       "      <th></th>\n",
       "      <th></th>\n",
       "      <th></th>\n",
       "    </tr>\n",
       "  </thead>\n",
       "  <tbody>\n",
       "    <tr>\n",
       "      <th>204</th>\n",
       "      <td>0.110727</td>\n",
       "      <td>0.05068</td>\n",
       "      <td>0.006728</td>\n",
       "      <td>0.028758</td>\n",
       "      <td>110.726675</td>\n",
       "    </tr>\n",
       "    <tr>\n",
       "      <th>402</th>\n",
       "      <td>0.110727</td>\n",
       "      <td>0.05068</td>\n",
       "      <td>-0.033151</td>\n",
       "      <td>-0.022885</td>\n",
       "      <td>110.726675</td>\n",
       "    </tr>\n",
       "    <tr>\n",
       "      <th>2</th>\n",
       "      <td>0.085299</td>\n",
       "      <td>0.05068</td>\n",
       "      <td>0.044451</td>\n",
       "      <td>-0.005671</td>\n",
       "      <td>85.298906</td>\n",
       "    </tr>\n",
       "    <tr>\n",
       "      <th>202</th>\n",
       "      <td>0.081666</td>\n",
       "      <td>0.05068</td>\n",
       "      <td>0.001339</td>\n",
       "      <td>0.035644</td>\n",
       "      <td>81.666368</td>\n",
       "    </tr>\n",
       "    <tr>\n",
       "      <th>331</th>\n",
       "      <td>0.081666</td>\n",
       "      <td>0.05068</td>\n",
       "      <td>-0.025607</td>\n",
       "      <td>-0.036656</td>\n",
       "      <td>81.666368</td>\n",
       "    </tr>\n",
       "    <tr>\n",
       "      <th>345</th>\n",
       "      <td>0.081666</td>\n",
       "      <td>0.05068</td>\n",
       "      <td>-0.002973</td>\n",
       "      <td>-0.033214</td>\n",
       "      <td>81.666368</td>\n",
       "    </tr>\n",
       "    <tr>\n",
       "      <th>414</th>\n",
       "      <td>0.081666</td>\n",
       "      <td>0.05068</td>\n",
       "      <td>0.006728</td>\n",
       "      <td>-0.004523</td>\n",
       "      <td>81.666368</td>\n",
       "    </tr>\n",
       "    <tr>\n",
       "      <th>258</th>\n",
       "      <td>0.078034</td>\n",
       "      <td>0.05068</td>\n",
       "      <td>-0.024529</td>\n",
       "      <td>-0.042395</td>\n",
       "      <td>78.033829</td>\n",
       "    </tr>\n",
       "    <tr>\n",
       "      <th>273</th>\n",
       "      <td>0.074401</td>\n",
       "      <td>0.05068</td>\n",
       "      <td>-0.020218</td>\n",
       "      <td>0.045972</td>\n",
       "      <td>74.401291</td>\n",
       "    </tr>\n",
       "    <tr>\n",
       "      <th>17</th>\n",
       "      <td>0.070769</td>\n",
       "      <td>0.05068</td>\n",
       "      <td>0.012117</td>\n",
       "      <td>0.056301</td>\n",
       "      <td>70.768752</td>\n",
       "    </tr>\n",
       "  </tbody>\n",
       "</table>\n",
       "</div>"
      ],
      "text/plain": [
       "            age      sex       bmi        bp  yeni_degisken\n",
       "index                                                      \n",
       "204    0.110727  0.05068  0.006728  0.028758     110.726675\n",
       "402    0.110727  0.05068 -0.033151 -0.022885     110.726675\n",
       "2      0.085299  0.05068  0.044451 -0.005671      85.298906\n",
       "202    0.081666  0.05068  0.001339  0.035644      81.666368\n",
       "331    0.081666  0.05068 -0.025607 -0.036656      81.666368\n",
       "345    0.081666  0.05068 -0.002973 -0.033214      81.666368\n",
       "414    0.081666  0.05068  0.006728 -0.004523      81.666368\n",
       "258    0.078034  0.05068 -0.024529 -0.042395      78.033829\n",
       "273    0.074401  0.05068 -0.020218  0.045972      74.401291\n",
       "17     0.070769  0.05068  0.012117  0.056301      70.768752"
      ]
     },
     "execution_count": 341,
     "metadata": {},
     "output_type": "execute_result"
    }
   ],
   "source": [
    "query = \"\"\"SELECT *\n",
    "            FROM test_data\n",
    "            WHERE sex > 0\n",
    "            ORDER BY Age DESC\n",
    "            LIMIT 10;\"\"\"\n",
    "\n",
    "pd.read_sql(query, conn).set_index('index')"
   ]
  },
  {
   "cell_type": "markdown",
   "metadata": {},
   "source": [
    "## PySpark SQL"
   ]
  },
  {
   "cell_type": "code",
   "execution_count": 258,
   "metadata": {},
   "outputs": [],
   "source": [
    "spark_df.registerTempTable(\"table_df\")"
   ]
  },
  {
   "cell_type": "code",
   "execution_count": 259,
   "metadata": {},
   "outputs": [
    {
     "name": "stdout",
     "output_type": "stream",
     "text": [
      "+---------+\n",
      "|namespace|\n",
      "+---------+\n",
      "|  default|\n",
      "+---------+\n",
      "\n"
     ]
    }
   ],
   "source": [
    "spark.sql(\"show databases\").show()"
   ]
  },
  {
   "cell_type": "code",
   "execution_count": 260,
   "metadata": {},
   "outputs": [
    {
     "name": "stdout",
     "output_type": "stream",
     "text": [
      "+--------+---------+-----------+\n",
      "|database|tableName|isTemporary|\n",
      "+--------+---------+-----------+\n",
      "|        | table_df|       true|\n",
      "+--------+---------+-----------+\n",
      "\n"
     ]
    }
   ],
   "source": [
    "spark.sql(\"show tables\").show()"
   ]
  },
  {
   "cell_type": "markdown",
   "metadata": {},
   "source": [
    "### quary-1`"
   ]
  },
  {
   "cell_type": "code",
   "execution_count": 345,
   "metadata": {},
   "outputs": [
    {
     "name": "stdout",
     "output_type": "stream",
     "text": [
      "+-------+\n",
      "|Glucose|\n",
      "+-------+\n",
      "|    148|\n",
      "|     85|\n",
      "|    183|\n",
      "|     89|\n",
      "|    137|\n",
      "+-------+\n",
      "only showing top 5 rows\n",
      "\n"
     ]
    }
   ],
   "source": [
    "spark_df.select('Glucose').show(5)"
   ]
  },
  {
   "cell_type": "code",
   "execution_count": 261,
   "metadata": {},
   "outputs": [
    {
     "name": "stdout",
     "output_type": "stream",
     "text": [
      "+-------+\n",
      "|Glucose|\n",
      "+-------+\n",
      "|    148|\n",
      "|     85|\n",
      "|    183|\n",
      "|     89|\n",
      "|    137|\n",
      "+-------+\n",
      "only showing top 5 rows\n",
      "\n"
     ]
    }
   ],
   "source": [
    "spark.sql(\"select Glucose from table_df\").show(5)"
   ]
  },
  {
   "cell_type": "markdown",
   "metadata": {},
   "source": [
    "### quary-2"
   ]
  },
  {
   "cell_type": "code",
   "execution_count": 279,
   "metadata": {},
   "outputs": [
    {
     "name": "stdout",
     "output_type": "stream",
     "text": [
      "+-------+------------------+\n",
      "|Outcome|      avg(Glucose)|\n",
      "+-------+------------------+\n",
      "|      1|141.25746268656715|\n",
      "|      0|            109.98|\n",
      "+-------+------------------+\n",
      "\n"
     ]
    }
   ],
   "source": [
    "spark_df.groupby('Outcome').agg({\"Glucose\": \"mean\"}).show()"
   ]
  },
  {
   "cell_type": "code",
   "execution_count": 280,
   "metadata": {},
   "outputs": [
    {
     "name": "stdout",
     "output_type": "stream",
     "text": [
      "+-------+------------------+\n",
      "|Outcome|     mean(Glucose)|\n",
      "+-------+------------------+\n",
      "|      1|141.25746268656715|\n",
      "|      0|            109.98|\n",
      "+-------+------------------+\n",
      "\n"
     ]
    }
   ],
   "source": [
    "spark.sql(\"select Outcome, mean(Glucose) from table_df group by Outcome\").show()"
   ]
  },
  {
   "cell_type": "markdown",
   "metadata": {},
   "source": [
    "### quary-3"
   ]
  },
  {
   "cell_type": "code",
   "execution_count": 291,
   "metadata": {
    "scrolled": true
   },
   "outputs": [
    {
     "name": "stdout",
     "output_type": "stream",
     "text": [
      "+---+------------------+--------------+\n",
      "|Age|avg(BloodPressure)|count(Outcome)|\n",
      "+---+------------------+--------------+\n",
      "| 31|            64.375|            24|\n",
      "| 65| 78.66666666666667|             3|\n",
      "| 53|              79.0|             5|\n",
      "| 34|              74.0|            14|\n",
      "| 81|              74.0|             1|\n",
      "| 28| 68.31428571428572|            35|\n",
      "| 26| 64.18181818181819|            33|\n",
      "| 27|              73.5|            32|\n",
      "| 44|             61.75|             8|\n",
      "| 22| 63.72222222222222|            72|\n",
      "+---+------------------+--------------+\n",
      "only showing top 10 rows\n",
      "\n"
     ]
    }
   ],
   "source": [
    "spark_df.groupby(\"Age\").agg({\"BloodPressure\": \"mean\", \"Outcome\": \"size\"}).show(10)"
   ]
  },
  {
   "cell_type": "code",
   "execution_count": 293,
   "metadata": {},
   "outputs": [
    {
     "name": "stdout",
     "output_type": "stream",
     "text": [
      "+---+-------------------+--------------+\n",
      "|Age|mean(BloodPressure)|count(Outcome)|\n",
      "+---+-------------------+--------------+\n",
      "| 31|             64.375|            24|\n",
      "| 65|  78.66666666666667|             3|\n",
      "| 53|               79.0|             5|\n",
      "| 34|               74.0|            14|\n",
      "| 81|               74.0|             1|\n",
      "| 28|  68.31428571428572|            35|\n",
      "| 26|  64.18181818181819|            33|\n",
      "| 27|               73.5|            32|\n",
      "| 44|              61.75|             8|\n",
      "| 22|  63.72222222222222|            72|\n",
      "+---+-------------------+--------------+\n",
      "only showing top 10 rows\n",
      "\n"
     ]
    }
   ],
   "source": [
    "query=\"\"\"select Age, mean(BloodPressure), COUNT(Outcome)\n",
    "from table_df \n",
    "group by Age\"\"\"\n",
    "\n",
    "spark.sql(query).show(10)"
   ]
  },
  {
   "cell_type": "markdown",
   "metadata": {},
   "source": [
    "# Big Data Visualization"
   ]
  },
  {
   "cell_type": "code",
   "execution_count": 297,
   "metadata": {},
   "outputs": [],
   "source": [
    "import matplotlib.pyplot as plt\n",
    "import seaborn as sns"
   ]
  },
  {
   "cell_type": "code",
   "execution_count": 323,
   "metadata": {},
   "outputs": [
    {
     "data": {
      "image/png": "[encoded data removed]",
      "text/plain": [
       "<Figure size 432x288 with 1 Axes>"
      ]
     },
     "metadata": {
      "needs_background": "light"
     },
     "output_type": "display_data"
    }
   ],
   "source": [
    "# Diabet hastalarinin frekasini goster\n",
    "sdf = spark_df.toPandas()\n",
    "sns.countplot(x = \"Outcome\", data = sdf);"
   ]
  },
  {
   "cell_type": "code",
   "execution_count": 328,
   "metadata": {},
   "outputs": [
    {
     "data": {
      "image/png": "[encoded data removed]",
      "text/plain": [
       "<Figure size 432x288 with 1 Axes>"
      ]
     },
     "metadata": {},
     "output_type": "display_data"
    }
   ],
   "source": [
    "# Diabet hastalarinin oranini goster\n",
    "sdf['Outcome'].value_counts().plot.pie();"
   ]
  },
  {
   "cell_type": "code",
   "execution_count": 329,
   "metadata": {},
   "outputs": [
    {
     "data": {
      "image/png": "[encoded data removed]",
      "text/plain": [
       "<Figure size 432x288 with 1 Axes>"
      ]
     },
     "metadata": {
      "needs_background": "light"
     },
     "output_type": "display_data"
    }
   ],
   "source": [
    "# Yasa gore kan basinci ortalamasini goster\n",
    "sdf = spark_df.groupby(\"Age\").agg({'BloodPressure':'mean'}).toPandas()\n",
    "sns.lineplot(x = \"Age\", y = \"avg(BloodPressure)\", data = sdf);"
   ]
  },
  {
   "cell_type": "code",
   "execution_count": 334,
   "metadata": {},
   "outputs": [
    {
     "data": {
      "image/png": "[encoded data removed]",
      "text/plain": [
       "<Figure size 432x288 with 1 Axes>"
      ]
     },
     "metadata": {
      "needs_background": "light"
     },
     "output_type": "display_data"
    }
   ],
   "source": [
    "# Diyabet olup olmamasina gore BMI ortalamasini goster\n",
    "sdf = spark_df.groupby(\"Outcome\").agg({'BMI':'mean'}).toPandas()\n",
    "sns.barplot(x = \"Outcome\", y = \"avg(BMI)\", data = sdf);"
   ]
  }
 ],
 "metadata": {
  "kernelspec": {
   "display_name": "Python 3 (ipykernel)",
   "language": "python",
   "name": "python3"
  },
  "language_info": {
   "codemirror_mode": {
    "name": "ipython",
    "version": 3
   },
   "file_extension": ".py",
   "mimetype": "text/x-python",
   "name": "python",
   "nbconvert_exporter": "python",
   "pygments_lexer": "ipython3",
   "version": "3.9.7"
  }
 },
 "nbformat": 4,
 "nbformat_minor": 2
}
