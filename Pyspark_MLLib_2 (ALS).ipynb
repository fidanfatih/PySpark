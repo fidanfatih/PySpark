{
 "cells": [
  {
   "cell_type": "code",
   "execution_count": 1,
   "metadata": {},
   "outputs": [],
   "source": [
    "import findspark\n",
    "findspark.init(\"C:\\\\spark\")"
   ]
  },
  {
   "cell_type": "code",
   "execution_count": 2,
   "metadata": {},
   "outputs": [],
   "source": [
    "from pyspark.ml.evaluation import RegressionEvaluator\n",
    "from pyspark.ml.recommendation import ALS\n",
    "from pyspark.sql import Row\n",
    "from pyspark.sql import SparkSession"
   ]
  },
  {
   "cell_type": "markdown",
   "metadata": {},
   "source": [
    "Recommendations sistemlerde 3 algoritma kullanilir.\n",
    "- Collaborative filtering\n",
    "- Content-based\n",
    "- Hybrid technique.\n",
    "\n",
    "NOTES:\n",
    "- Bu projede bir collaborative filtering algorithm olan `Alternating least square matrix factorization method` (ALS) kullanacagiz.\n",
    "- ALS, Apache Spark'ta yerleşik olarak gelir.\n",
    "- PySpark, Spark için Python API'sidir."
   ]
  },
  {
   "cell_type": "code",
   "execution_count": 3,
   "metadata": {},
   "outputs": [],
   "source": [
    "spark = SparkSession.builder.appName(\"second_example\").getOrCreate()"
   ]
  },
  {
   "cell_type": "code",
   "execution_count": 4,
   "metadata": {},
   "outputs": [
    {
     "name": "stdout",
     "output_type": "stream",
     "text": [
      "+------+-------+------+----------+\n",
      "|userId|movieId|rating| timestamp|\n",
      "+------+-------+------+----------+\n",
      "|     1|     31|   2.5|1260759144|\n",
      "|     1|   1029|   3.0|1260759179|\n",
      "|     1|   1061|   3.0|1260759182|\n",
      "|     1|   1129|   2.0|1260759185|\n",
      "|     1|   1172|   4.0|1260759205|\n",
      "|     1|   1263|   2.0|1260759151|\n",
      "|     1|   1287|   2.0|1260759187|\n",
      "|     1|   1293|   2.0|1260759148|\n",
      "|     1|   1339|   3.5|1260759125|\n",
      "|     1|   1343|   2.0|1260759131|\n",
      "|     1|   1371|   2.5|1260759135|\n",
      "|     1|   1405|   1.0|1260759203|\n",
      "|     1|   1953|   4.0|1260759191|\n",
      "|     1|   2105|   4.0|1260759139|\n",
      "|     1|   2150|   3.0|1260759194|\n",
      "|     1|   2193|   2.0|1260759198|\n",
      "|     1|   2294|   2.0|1260759108|\n",
      "|     1|   2455|   2.5|1260759113|\n",
      "|     1|   2968|   1.0|1260759200|\n",
      "|     1|   3671|   3.0|1260759117|\n",
      "+------+-------+------+----------+\n",
      "only showing top 20 rows\n",
      "\n"
     ]
    }
   ],
   "source": [
    "lines = spark.read.csv(\".\\\\Pyspark_ML_Rating_Data\\\\ratings.csv\", inferSchema = True, header= True)\n",
    "lines.show()"
   ]
  },
  {
   "cell_type": "code",
   "execution_count": 5,
   "metadata": {},
   "outputs": [
    {
     "name": "stdout",
     "output_type": "stream",
     "text": [
      "+-------+------------------+------------------+------------------+--------------------+\n",
      "|summary|            userId|           movieId|            rating|           timestamp|\n",
      "+-------+------------------+------------------+------------------+--------------------+\n",
      "|  count|            100004|            100004|            100004|              100004|\n",
      "|   mean| 347.0113095476181|12548.664363425463| 3.543608255669773|1.1296390869392424E9|\n",
      "| stddev|195.16383797819535|26369.198968815268|1.0580641091070326|1.9168582602710962E8|\n",
      "|    min|                 1|                 1|               0.5|           789652009|\n",
      "|    max|               671|            163949|               5.0|          1476640644|\n",
      "+-------+------------------+------------------+------------------+--------------------+\n",
      "\n"
     ]
    }
   ],
   "source": [
    "lines.describe().show()"
   ]
  },
  {
   "cell_type": "code",
   "execution_count": 31,
   "metadata": {},
   "outputs": [],
   "source": [
    "training, test = lines.randomSplit([.8, .2], seed=42)"
   ]
  },
  {
   "cell_type": "code",
   "execution_count": 32,
   "metadata": {},
   "outputs": [],
   "source": [
    "als = ALS(maxIter = 5, regParam= .09, userCol=\"userId\", itemCol=\"movieId\", ratingCol=\"rating\",coldStartStrategy=\"drop\",nonnegative=True)\n",
    "model = als.fit(training)\n",
    "predictions = model.transform(test)"
   ]
  },
  {
   "cell_type": "code",
   "execution_count": 33,
   "metadata": {},
   "outputs": [
    {
     "name": "stdout",
     "output_type": "stream",
     "text": [
      "RMSE=0.9180440271621239\n",
      "+------+-------+------+----------+----------+\n",
      "|userId|movieId|rating| timestamp|prediction|\n",
      "+------+-------+------+----------+----------+\n",
      "|    30|    463|   4.0| 945277405| 3.5538173|\n",
      "|   460|    471|   5.0|1072836030| 3.8362873|\n",
      "|   274|    471|   5.0|1074104142| 3.6900458|\n",
      "|   306|    471|   3.0| 939718996| 3.6344876|\n",
      "|   452|    471|   3.0| 976422396| 3.7346225|\n",
      "|    19|    471|   3.0| 855192558| 4.0051093|\n",
      "|    92|    471|   4.0| 848526594| 3.8723884|\n",
      "|   299|    471|   4.5|1344186741|  4.249956|\n",
      "|   607|    471|   4.0|1118247731| 3.2649348|\n",
      "|    15|    471|   3.0|1166586067| 2.8280983|\n",
      "|   659|    471|   4.0| 853412972| 3.6692934|\n",
      "|   195|    471|   3.0| 976289176| 3.4980865|\n",
      "|   468|    471|   4.0|1296197444| 3.3988836|\n",
      "|   521|    471|   3.5|1370072127|  3.999179|\n",
      "|   509|    496|   3.0| 940013481| 2.6204333|\n",
      "|   463|   1088|   3.0|1050499697| 3.2633686|\n",
      "|    57|   1088|   4.0| 907764935| 3.4524126|\n",
      "|   306|   1088|   4.0| 939760516|  3.310099|\n",
      "|   518|   1088|   4.0| 945362333| 3.8212042|\n",
      "|    95|   1088|   5.0|1016317856|  3.671176|\n",
      "+------+-------+------+----------+----------+\n",
      "only showing top 20 rows\n",
      "\n"
     ]
    }
   ],
   "source": [
    "evaluator=RegressionEvaluator(metricName=\"rmse\",labelCol=\"rating\",predictionCol=\"prediction\")\n",
    "predictions=model.transform(test)\n",
    "rmse=evaluator.evaluate(predictions)\n",
    "print(\"RMSE=\"+str(rmse))\n",
    "predictions.show()"
   ]
  },
  {
   "cell_type": "code",
   "execution_count": 34,
   "metadata": {},
   "outputs": [
    {
     "name": "stdout",
     "output_type": "stream",
     "text": [
      "+------+-------+------+\n",
      "|userId|movieId|rating|\n",
      "+------+-------+------+\n",
      "|    12|   1235|   5.0|\n",
      "|    12|   1215|   5.0|\n",
      "|    12|   3793|   5.0|\n",
      "|    12|    736|   4.0|\n",
      "|    12|   6184|   4.0|\n",
      "|    12|   3864|   3.0|\n",
      "|    12|   3886|   2.0|\n",
      "|    12|   2355|   2.0|\n",
      "|    12|   3869|   2.0|\n",
      "|    12|   1028|   1.0|\n",
      "|    12|   1295|   1.0|\n",
      "|    12|   3791|   1.0|\n",
      "|    12|   3844|   1.0|\n",
      "+------+-------+------+\n",
      "\n"
     ]
    }
   ],
   "source": [
    "single_user = test.filter(test[\"userId\"] == 12).select([\"userId\", \"movieId\",\"rating\"])\n",
    "single_user.orderBy(\"rating\", ascending=False).show()"
   ]
  },
  {
   "cell_type": "code",
   "execution_count": 35,
   "metadata": {},
   "outputs": [
    {
     "name": "stdout",
     "output_type": "stream",
     "text": [
      "+------+-------+------+----------+\n",
      "|userId|movieId|rating|prediction|\n",
      "+------+-------+------+----------+\n",
      "|    12|   1215|   5.0|  2.590385|\n",
      "|    12|   1235|   5.0| 1.5256846|\n",
      "|    12|   3793|   5.0| 2.7903378|\n",
      "|    12|    736|   4.0|   2.31013|\n",
      "|    12|   6184|   4.0|  2.769578|\n",
      "|    12|   3864|   3.0|  1.597648|\n",
      "|    12|   3869|   2.0| 2.0295925|\n",
      "|    12|   2355|   2.0|   2.66153|\n",
      "|    12|   3844|   1.0| 2.1820014|\n",
      "|    12|   1295|   1.0| 1.4813555|\n",
      "|    12|   3791|   1.0| 2.2531295|\n",
      "|    12|   1028|   1.0| 2.4114938|\n",
      "+------+-------+------+----------+\n",
      "\n"
     ]
    }
   ],
   "source": [
    "rec = model.transform(single_user)\n",
    "rec.orderBy(\"rating\", ascending=False).show()"
   ]
  }
 ],
 "metadata": {
  "kernelspec": {
   "display_name": "Python 3 (ipykernel)",
   "language": "python",
   "name": "python3"
  },
  "language_info": {
   "codemirror_mode": {
    "name": "ipython",
    "version": 3
   },
   "file_extension": ".py",
   "mimetype": "text/x-python",
   "name": "python",
   "nbconvert_exporter": "python",
   "pygments_lexer": "ipython3",
   "version": "3.9.7"
  }
 },
 "nbformat": 4,
 "nbformat_minor": 2
}
